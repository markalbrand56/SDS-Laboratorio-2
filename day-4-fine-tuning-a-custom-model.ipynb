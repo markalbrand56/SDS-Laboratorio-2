{
 "metadata": {
  "kernelspec": {
   "name": "python3",
   "display_name": "Python 3",
   "language": "python"
  },
  "language_info": {
   "name": "python",
   "version": "3.10.14",
   "mimetype": "text/x-python",
   "codemirror_mode": {
    "name": "ipython",
    "version": 3
   },
   "pygments_lexer": "ipython3",
   "nbconvert_exporter": "python",
   "file_extension": ".py"
  },
  "colab": {
   "name": "day-4-fine-tuning-a-custom-model.ipynb",
   "toc_visible": true
  },
  "kaggle": {
   "accelerator": "none",
   "dataSources": [],
   "dockerImageVersionId": 30786,
   "isInternetEnabled": true,
   "language": "python",
   "sourceType": "notebook",
   "isGpuEnabled": false
  }
 },
 "nbformat_minor": 4,
 "nbformat": 4,
 "cells": [
  {
   "metadata": {},
   "cell_type": "markdown",
   "source": [
    "# Laboratorio 2: GenAI Intensive course\n",
    "\n",
    "## Security Data Science\n",
    "\n",
    "**Mark Albrand - 21004**"
   ]
  },
  {
   "cell_type": "markdown",
   "source": "##### Copyright 2024 Google LLC.",
   "metadata": {
    "id": "b6e13eef3f5d"
   }
  },
  {
   "cell_type": "code",
   "source": "# @title Licensed under the Apache License, Version 2.0 (the \"License\");\n# you may not use this file except in compliance with the License.\n# You may obtain a copy of the License at\n#\n# https://www.apache.org/licenses/LICENSE-2.0\n#\n# Unless required by applicable law or agreed to in writing, software\n# distributed under the License is distributed on an \"AS IS\" BASIS,\n# WITHOUT WARRANTIES OR CONDITIONS OF ANY KIND, either express or implied.\n# See the License for the specific language governing permissions and\n# limitations under the License.",
   "metadata": {
    "cellView": "form",
    "id": "d6597b11df14",
    "jupyter": {
     "source_hidden": true
    },
    "trusted": true,
    "execution": {
     "iopub.status.busy": "2024-11-14T03:23:58.909404Z",
     "iopub.execute_input": "2024-11-14T03:23:58.909977Z",
     "iopub.status.idle": "2024-11-14T03:23:58.933914Z",
     "shell.execute_reply.started": "2024-11-14T03:23:58.909929Z",
     "shell.execute_reply": "2024-11-14T03:23:58.932716Z"
    },
    "ExecuteTime": {
     "end_time": "2025-02-16T18:43:11.085588Z",
     "start_time": "2025-02-16T18:43:11.083041Z"
    }
   },
   "outputs": [],
   "execution_count": 1
  },
  {
   "cell_type": "markdown",
   "source": "# Day 4 - Fine tuning a custom model\n\nWelcome back to the Kaggle 5-day Generative AI course!\n\nIn this notebook you will use the Gemini API to fine-tune a custom, task-specific model. Fine-tuning can be used for a variety of tasks from classic NLP problems like entity extraction or summarisation, to creative tasks like stylised generation. You will fine-tune a model to classify the category a piece of text (a newsgroup post) into the category it belongs to (the newsgroup name).\n\nThis codelab walks you tuning a model with the API. [AI Studio](https://aistudio.google.com/app/tune) also supports creating new tuned models directly in the web UI, allowing you to quickly create and monitor models using data from Google Sheets, Drive or your own files.",
   "metadata": {
    "id": "4KDIFPAL2EnL"
   }
  },
  {
   "cell_type": "code",
   "source": "%pip install -U -q google-generativeai>=0.8.3",
   "metadata": {
    "id": "9wafTyEH1_xF",
    "trusted": true,
    "execution": {
     "iopub.status.busy": "2024-11-14T03:23:58.936135Z",
     "iopub.execute_input": "2024-11-14T03:23:58.936521Z",
     "iopub.status.idle": "2024-11-14T03:23:58.941898Z",
     "shell.execute_reply.started": "2024-11-14T03:23:58.936481Z",
     "shell.execute_reply": "2024-11-14T03:23:58.940618Z"
    },
    "ExecuteTime": {
     "end_time": "2025-02-16T18:43:17.775951Z",
     "start_time": "2025-02-16T18:43:15.743492Z"
    }
   },
   "outputs": [
    {
     "name": "stdout",
     "output_type": "stream",
     "text": [
      "Note: you may need to restart the kernel to use updated packages.\n"
     ]
    }
   ],
   "execution_count": 2
  },
  {
   "cell_type": "markdown",
   "source": "Note that you do not have to restart the kernel.",
   "metadata": {}
  },
  {
   "cell_type": "code",
   "source": "import google.generativeai as genai",
   "metadata": {
    "id": "T0CBG9xL2PvT",
    "trusted": true,
    "execution": {
     "iopub.status.busy": "2024-11-14T04:14:06.759967Z",
     "iopub.execute_input": "2024-11-14T04:14:06.760401Z",
     "iopub.status.idle": "2024-11-14T04:14:08.164595Z",
     "shell.execute_reply.started": "2024-11-14T04:14:06.760357Z",
     "shell.execute_reply": "2024-11-14T04:14:08.163322Z"
    },
    "ExecuteTime": {
     "end_time": "2025-02-16T18:43:19.434439Z",
     "start_time": "2025-02-16T18:43:18.745231Z"
    }
   },
   "outputs": [
    {
     "name": "stderr",
     "output_type": "stream",
     "text": [
      "C:\\Users\\marka\\anaconda3\\envs\\Security-Data-Science\\Lib\\site-packages\\tqdm\\auto.py:21: TqdmWarning: IProgress not found. Please update jupyter and ipywidgets. See https://ipywidgets.readthedocs.io/en/stable/user_install.html\n",
      "  from .autonotebook import tqdm as notebook_tqdm\n"
     ]
    }
   ],
   "execution_count": 3
  },
  {
   "cell_type": "markdown",
   "source": "### Set up your API key\n\nTo run the following cell, your API key must be stored it in a [Kaggle secret](https://www.kaggle.com/discussions/product-feedback/114053) named `GOOGLE_API_KEY`.\n\nIf you don't already have an API key, you can grab one from [AI Studio](https://aistudio.google.com/app/apikey). You can find [detailed instructions in the docs](https://ai.google.dev/gemini-api/docs/api-key).\n\nTo make the key available through Kaggle secrets, choose `Secrets` from the `Add-ons` menu and follow the instructions to add your key or enable it for this notebook.",
   "metadata": {
    "id": "P4bYX2T72ScK"
   }
  },
  {
   "cell_type": "code",
   "source": [
    "import dotenv\n",
    "import os\n",
    "\n",
    "dotenv.load_dotenv()\n",
    "\n",
    "GOOGLE_API_KEY = os.getenv(\"GOOGLE_API_KEY\")\n",
    "genai.configure(api_key=GOOGLE_API_KEY)"
   ],
   "metadata": {
    "id": "VuJPY3GK2SLZ",
    "trusted": true,
    "execution": {
     "iopub.status.busy": "2024-11-14T04:14:08.166626Z",
     "iopub.execute_input": "2024-11-14T04:14:08.167369Z",
     "iopub.status.idle": "2024-11-14T04:14:08.437435Z",
     "shell.execute_reply.started": "2024-11-14T04:14:08.167327Z",
     "shell.execute_reply": "2024-11-14T04:14:08.436412Z"
    },
    "ExecuteTime": {
     "end_time": "2025-02-16T18:43:19.971155Z",
     "start_time": "2025-02-16T18:43:19.962484Z"
    }
   },
   "outputs": [],
   "execution_count": 4
  },
  {
   "cell_type": "markdown",
   "source": "If you received an error response along the lines of `No user secrets exist for kernel id ...`, then you need to add your API key via `Add-ons`, `Secrets` **and** enable it.\n\n![Screenshot of the checkbox to enable GOOGLE_API_KEY secret](https://storage.googleapis.com/kaggle-media/Images/5gdai_sc_3.png)",
   "metadata": {
    "id": "25b2127c2052"
   },
   "attachments": {
    "53e1d527-de81-497e-bfac-58df458e750b.png": {
     "image/png": "[encoded data removed]"
    }
   }
  },
  {
   "cell_type": "markdown",
   "source": "### Explore available models\n\nYou will be using the [`TunedModel.create`](https://ai.google.dev/api/tuning#method:-tunedmodels.create) API method to start the fine-tuning job and create your custom model. Find a model that supports it through the [`models.list`](https://ai.google.dev/api/models#method:-models.list) endpoint. You can also find more information about tuning models in [the model tuning docs](https://ai.google.dev/gemini-api/docs/model-tuning/tutorial?lang=python).",
   "metadata": {
    "id": "CqVA5QFO6n4z"
   }
  },
  {
   "cell_type": "code",
   "source": "for model in genai.list_models():\n    if \"createTunedModel\" in model.supported_generation_methods:\n        print(model.name)",
   "metadata": {
    "id": "coEacWAB6o0G",
    "trusted": true,
    "execution": {
     "iopub.status.busy": "2024-11-14T04:14:10.234032Z",
     "iopub.execute_input": "2024-11-14T04:14:10.234461Z",
     "iopub.status.idle": "2024-11-14T04:14:11.145855Z",
     "shell.execute_reply.started": "2024-11-14T04:14:10.234417Z",
     "shell.execute_reply": "2024-11-14T04:14:11.14471Z"
    },
    "ExecuteTime": {
     "end_time": "2025-02-16T18:43:22.628208Z",
     "start_time": "2025-02-16T18:43:22.348878Z"
    }
   },
   "outputs": [
    {
     "name": "stdout",
     "output_type": "stream",
     "text": [
      "models/gemini-1.0-pro-001\n",
      "models/gemini-1.5-flash-001-tuning\n"
     ]
    }
   ],
   "execution_count": 5
  },
  {
   "cell_type": "markdown",
   "source": "## Download the dataset\n\nIn this activity, you will use the same newsgroups dataset that you used to train a classifier in Keras. In this example you will use a fine-tuned Gemini model to achieve the same goal.\n\nThe [20 Newsgroups Text Dataset](https://scikit-learn.org/0.19/datasets/twenty_newsgroups.html) contains 18,000 newsgroups posts on 20 topics divided into training and test sets.",
   "metadata": {
    "id": "peFm0w_0c1CO"
   }
  },
  {
   "cell_type": "code",
   "source": "from sklearn.datasets import fetch_20newsgroups\n\nnewsgroups_train = fetch_20newsgroups(subset=\"train\")\nnewsgroups_test = fetch_20newsgroups(subset=\"test\")\n\n# View list of class names for dataset\nnewsgroups_train.target_names",
   "metadata": {
    "id": "bX_kpgnQ9b-Z",
    "trusted": true,
    "execution": {
     "iopub.status.busy": "2024-11-14T04:14:11.97468Z",
     "iopub.execute_input": "2024-11-14T04:14:11.975118Z",
     "iopub.status.idle": "2024-11-14T04:14:36.829367Z",
     "shell.execute_reply.started": "2024-11-14T04:14:11.975073Z",
     "shell.execute_reply": "2024-11-14T04:14:36.828183Z"
    },
    "ExecuteTime": {
     "end_time": "2025-02-16T18:43:26.126048Z",
     "start_time": "2025-02-16T18:43:25.709200Z"
    }
   },
   "outputs": [
    {
     "data": {
      "text/plain": [
       "['alt.atheism',\n",
       " 'comp.graphics',\n",
       " 'comp.os.ms-windows.misc',\n",
       " 'comp.sys.ibm.pc.hardware',\n",
       " 'comp.sys.mac.hardware',\n",
       " 'comp.windows.x',\n",
       " 'misc.forsale',\n",
       " 'rec.autos',\n",
       " 'rec.motorcycles',\n",
       " 'rec.sport.baseball',\n",
       " 'rec.sport.hockey',\n",
       " 'sci.crypt',\n",
       " 'sci.electronics',\n",
       " 'sci.med',\n",
       " 'sci.space',\n",
       " 'soc.religion.christian',\n",
       " 'talk.politics.guns',\n",
       " 'talk.politics.mideast',\n",
       " 'talk.politics.misc',\n",
       " 'talk.religion.misc']"
      ]
     },
     "execution_count": 6,
     "metadata": {},
     "output_type": "execute_result"
    }
   ],
   "execution_count": 6
  },
  {
   "cell_type": "markdown",
   "source": "Here's what a single row looks like.",
   "metadata": {
    "id": "ipafe6ptZFjt"
   }
  },
  {
   "cell_type": "code",
   "source": "print(newsgroups_train.data[0])",
   "metadata": {
    "id": "EtEXcdT39hCB",
    "trusted": true,
    "execution": {
     "iopub.status.busy": "2024-11-14T04:14:36.831971Z",
     "iopub.execute_input": "2024-11-14T04:14:36.832629Z",
     "iopub.status.idle": "2024-11-14T04:14:36.8445Z",
     "shell.execute_reply.started": "2024-11-14T04:14:36.832513Z",
     "shell.execute_reply": "2024-11-14T04:14:36.83826Z"
    },
    "ExecuteTime": {
     "end_time": "2025-02-16T18:43:34.086746Z",
     "start_time": "2025-02-16T18:43:34.083468Z"
    }
   },
   "outputs": [
    {
     "name": "stdout",
     "output_type": "stream",
     "text": [
      "From: lerxst@wam.umd.edu (where's my thing)\n",
      "Subject: WHAT car is this!?\n",
      "Nntp-Posting-Host: rac3.wam.umd.edu\n",
      "Organization: University of Maryland, College Park\n",
      "Lines: 15\n",
      "\n",
      " I was wondering if anyone out there could enlighten me on this car I saw\n",
      "the other day. It was a 2-door sports car, looked to be from the late 60s/\n",
      "early 70s. It was called a Bricklin. The doors were really small. In addition,\n",
      "the front bumper was separate from the rest of the body. This is \n",
      "all I know. If anyone can tellme a model name, engine specs, years\n",
      "of production, where this car is made, history, or whatever info you\n",
      "have on this funky looking car, please e-mail.\n",
      "\n",
      "Thanks,\n",
      "- IL\n",
      "   ---- brought to you by your neighborhood Lerxst ----\n",
      "\n",
      "\n",
      "\n",
      "\n",
      "\n"
     ]
    }
   ],
   "execution_count": 7
  },
  {
   "cell_type": "markdown",
   "source": "## Prepare the dataset\n\nYou'll use the same pre-processing code you used for the custom model on day 2. This pre-processing removes personal information, which can be used to \"shortcut\" to known users of a forum, and formats the text to appear a bit more like regular text and less like a newsgroup post (e.g. by removing the mail headers). This normalisation allows the model to generalise to regular text and not over-depend on specific fields. If your input data is always going to be newsgroup posts, it may be helpful to leave this structure in place if they provide genuine signals.",
   "metadata": {
    "id": "03lDs1O4ZQ0-"
   }
  },
  {
   "cell_type": "code",
   "source": "import email\nimport re\n\nimport pandas as pd\n\n\ndef preprocess_newsgroup_row(data):\n    # Extract only the subject and body\n    msg = email.message_from_string(data)\n    text = f\"{msg['Subject']}\\n\\n{msg.get_payload()}\"\n    # Strip any remaining email addresses\n    text = re.sub(r\"[\\w\\.-]+@[\\w\\.-]+\", \"\", text)\n    # Truncate the text to fit within the input limits\n    text = text[:40000]\n\n    return text\n\n\ndef preprocess_newsgroup_data(newsgroup_dataset):\n    # Put data points into dataframe\n    df = pd.DataFrame(\n        {\"Text\": newsgroup_dataset.data, \"Label\": newsgroup_dataset.target}\n    )\n    # Clean up the text\n    df[\"Text\"] = df[\"Text\"].apply(preprocess_newsgroup_row)\n    # Match label to target name index\n    df[\"Class Name\"] = df[\"Label\"].map(lambda l: newsgroup_dataset.target_names[l])\n\n    return df",
   "metadata": {
    "id": "IoNYTxpoZgB0",
    "trusted": true,
    "execution": {
     "iopub.status.busy": "2024-11-14T04:14:36.846124Z",
     "iopub.execute_input": "2024-11-14T04:14:36.84685Z",
     "iopub.status.idle": "2024-11-14T04:14:37.375175Z",
     "shell.execute_reply.started": "2024-11-14T04:14:36.846794Z",
     "shell.execute_reply": "2024-11-14T04:14:37.37394Z"
    },
    "ExecuteTime": {
     "end_time": "2025-02-16T18:43:44.251550Z",
     "start_time": "2025-02-16T18:43:44.247549Z"
    }
   },
   "outputs": [],
   "execution_count": 8
  },
  {
   "cell_type": "code",
   "source": "# Apply preprocessing to training and test datasets\ndf_train = preprocess_newsgroup_data(newsgroups_train)\ndf_test = preprocess_newsgroup_data(newsgroups_test)\n\ndf_train.head()",
   "metadata": {
    "id": "kvOsUSRWaW4g",
    "trusted": true,
    "execution": {
     "iopub.status.busy": "2024-11-14T04:14:37.377698Z",
     "iopub.execute_input": "2024-11-14T04:14:37.378262Z",
     "iopub.status.idle": "2024-11-14T04:14:44.024746Z",
     "shell.execute_reply.started": "2024-11-14T04:14:37.37822Z",
     "shell.execute_reply": "2024-11-14T04:14:44.023465Z"
    },
    "ExecuteTime": {
     "end_time": "2025-02-16T18:43:47.997466Z",
     "start_time": "2025-02-16T18:43:46.143734Z"
    }
   },
   "outputs": [
    {
     "data": {
      "text/plain": [
       "                                                Text  Label  \\\n",
       "0  WHAT car is this!?\\n\\n I was wondering if anyo...      7   \n",
       "1  SI Clock Poll - Final Call\\n\\nA fair number of...      4   \n",
       "2  PB questions...\\n\\nwell folks, my mac plus fin...      4   \n",
       "3  Re: Weitek P9000 ?\\n\\nRobert J.C. Kyanko () wr...      1   \n",
       "4  Re: Shuttle Launch Question\\n\\nFrom article <>...     14   \n",
       "\n",
       "              Class Name  \n",
       "0              rec.autos  \n",
       "1  comp.sys.mac.hardware  \n",
       "2  comp.sys.mac.hardware  \n",
       "3          comp.graphics  \n",
       "4              sci.space  "
      ],
      "text/html": [
       "<div>\n",
       "<style scoped>\n",
       "    .dataframe tbody tr th:only-of-type {\n",
       "        vertical-align: middle;\n",
       "    }\n",
       "\n",
       "    .dataframe tbody tr th {\n",
       "        vertical-align: top;\n",
       "    }\n",
       "\n",
       "    .dataframe thead th {\n",
       "        text-align: right;\n",
       "    }\n",
       "</style>\n",
       "<table border=\"1\" class=\"dataframe\">\n",
       "  <thead>\n",
       "    <tr style=\"text-align: right;\">\n",
       "      <th></th>\n",
       "      <th>Text</th>\n",
       "      <th>Label</th>\n",
       "      <th>Class Name</th>\n",
       "    </tr>\n",
       "  </thead>\n",
       "  <tbody>\n",
       "    <tr>\n",
       "      <th>0</th>\n",
       "      <td>WHAT car is this!?\\n\\n I was wondering if anyo...</td>\n",
       "      <td>7</td>\n",
       "      <td>rec.autos</td>\n",
       "    </tr>\n",
       "    <tr>\n",
       "      <th>1</th>\n",
       "      <td>SI Clock Poll - Final Call\\n\\nA fair number of...</td>\n",
       "      <td>4</td>\n",
       "      <td>comp.sys.mac.hardware</td>\n",
       "    </tr>\n",
       "    <tr>\n",
       "      <th>2</th>\n",
       "      <td>PB questions...\\n\\nwell folks, my mac plus fin...</td>\n",
       "      <td>4</td>\n",
       "      <td>comp.sys.mac.hardware</td>\n",
       "    </tr>\n",
       "    <tr>\n",
       "      <th>3</th>\n",
       "      <td>Re: Weitek P9000 ?\\n\\nRobert J.C. Kyanko () wr...</td>\n",
       "      <td>1</td>\n",
       "      <td>comp.graphics</td>\n",
       "    </tr>\n",
       "    <tr>\n",
       "      <th>4</th>\n",
       "      <td>Re: Shuttle Launch Question\\n\\nFrom article &lt;&gt;...</td>\n",
       "      <td>14</td>\n",
       "      <td>sci.space</td>\n",
       "    </tr>\n",
       "  </tbody>\n",
       "</table>\n",
       "</div>"
      ]
     },
     "execution_count": 9,
     "metadata": {},
     "output_type": "execute_result"
    }
   ],
   "execution_count": 9
  },
  {
   "cell_type": "markdown",
   "source": "Now sample the data. You will keep 50 rows for each category for training. Note that this is even fewer than the Keras example, as this technique (parameter-efficient fine-tuning, or PEFT) updates a relatively small number of parameters and does not require training a new model or updating the large model.",
   "metadata": {
    "id": "XSKcj5WtadaR"
   }
  },
  {
   "cell_type": "code",
   "source": "def sample_data(df, num_samples, classes_to_keep):\n    # Sample rows, selecting num_samples of each Label.\n    df = (\n        df.groupby(\"Label\")[df.columns]\n        .apply(lambda x: x.sample(num_samples))\n        .reset_index(drop=True)\n    )\n\n    df = df[df[\"Class Name\"].str.contains(classes_to_keep)]\n    df[\"Class Name\"] = df[\"Class Name\"].astype(\"category\")\n\n    return df\n\n\nTRAIN_NUM_SAMPLES = 50\nTEST_NUM_SAMPLES = 10\n# Keep rec.* and sci.*\nCLASSES_TO_KEEP = \"^rec|^sci\"\n\ndf_train = sample_data(df_train, TRAIN_NUM_SAMPLES, CLASSES_TO_KEEP)\ndf_test = sample_data(df_test, TEST_NUM_SAMPLES, CLASSES_TO_KEEP)",
   "metadata": {
    "id": "0t9Xu6X5akkt",
    "trusted": true,
    "execution": {
     "iopub.status.busy": "2024-11-14T04:14:44.026123Z",
     "iopub.execute_input": "2024-11-14T04:14:44.026572Z",
     "iopub.status.idle": "2024-11-14T04:14:44.082828Z",
     "shell.execute_reply.started": "2024-11-14T04:14:44.026509Z",
     "shell.execute_reply": "2024-11-14T04:14:44.0816Z"
    },
    "ExecuteTime": {
     "end_time": "2025-02-16T18:44:09.460197Z",
     "start_time": "2025-02-16T18:44:09.444810Z"
    }
   },
   "outputs": [],
   "execution_count": 10
  },
  {
   "cell_type": "markdown",
   "source": "## Evaluate baseline performance\n\nBefore you start tuning a model, it's good practice to perform an evaluation on the available models to ensure you can measure how much the tuning helps.\n\nFirst identify a single sample row to use for visual inspection.",
   "metadata": {}
  },
  {
   "cell_type": "code",
   "source": "sample_idx = 0\nsample_row = preprocess_newsgroup_row(newsgroups_test.data[sample_idx])\nsample_label = newsgroups_test.target_names[newsgroups_test.target[sample_idx]]\n\nprint(sample_row)\nprint('---')\nprint('Label:', sample_label)",
   "metadata": {
    "trusted": true,
    "execution": {
     "iopub.status.busy": "2024-11-14T04:14:44.084283Z",
     "iopub.execute_input": "2024-11-14T04:14:44.084801Z",
     "iopub.status.idle": "2024-11-14T04:14:44.092623Z",
     "shell.execute_reply.started": "2024-11-14T04:14:44.084747Z",
     "shell.execute_reply": "2024-11-14T04:14:44.09141Z"
    },
    "ExecuteTime": {
     "end_time": "2025-02-16T18:44:13.853984Z",
     "start_time": "2025-02-16T18:44:13.850645Z"
    }
   },
   "outputs": [
    {
     "name": "stdout",
     "output_type": "stream",
     "text": [
      "Need info on 88-89 Bonneville\n",
      "\n",
      "\n",
      " I am a little confused on all of the models of the 88-89 bonnevilles.\n",
      "I have heard of the LE SE LSE SSE SSEI. Could someone tell me the\n",
      "differences are far as features or performance. I am also curious to\n",
      "know what the book value is for prefereably the 89 model. And how much\n",
      "less than book value can you usually get them for. In other words how\n",
      "much are they in demand this time of year. I have heard that the mid-spring\n",
      "early summer is the best time to buy.\n",
      "\n",
      "\t\t\tNeil Gandler\n",
      "\n",
      "---\n",
      "Label: rec.autos\n"
     ]
    }
   ],
   "execution_count": 11
  },
  {
   "cell_type": "markdown",
   "source": "Passing the text directly in as a prompt does not yield the desired results. The model will attempt to respond to the message.",
   "metadata": {}
  },
  {
   "cell_type": "code",
   "source": "baseline_model = genai.GenerativeModel(\"gemini-1.5-flash-001\")\nresponse = baseline_model.generate_content(sample_row)\nprint(response.text)",
   "metadata": {
    "trusted": true,
    "execution": {
     "iopub.status.busy": "2024-11-14T04:16:08.12949Z",
     "iopub.execute_input": "2024-11-14T04:16:08.130068Z",
     "iopub.status.idle": "2024-11-14T04:16:12.084133Z",
     "shell.execute_reply.started": "2024-11-14T04:16:08.130023Z",
     "shell.execute_reply": "2024-11-14T04:16:12.083069Z"
    },
    "ExecuteTime": {
     "end_time": "2025-02-16T18:44:36.001237Z",
     "start_time": "2025-02-16T18:44:31.454163Z"
    }
   },
   "outputs": [
    {
     "name": "stdout",
     "output_type": "stream",
     "text": [
      "## Demystifying the 1988-1989 Buick Bonnevilles:\n",
      "\n",
      "You're right, the 1988-1989 Bonneville lineup was quite diverse, with various trim levels designed to cater to different needs and budgets. Here's a breakdown:\n",
      "\n",
      "**1. Base Model:**\n",
      "\n",
      "* **Features:** The standard Bonneville came with a 3.8L V6 engine, a 3-speed automatic transmission, cloth upholstery, AM/FM radio, and basic power options. \n",
      "* **Performance:** This was the most economical option, offering decent fuel economy but limited power.\n",
      "\n",
      "**2. LE:**\n",
      "\n",
      "* **Features:** The LE (Luxury Edition) added features like vinyl roof, velour upholstery, power windows, power locks, and a rear window defroster. It still retained the 3.8L V6.\n",
      "* **Performance:** Similar to the base model in performance, but offered a more luxurious experience.\n",
      "\n",
      "**3. SE:**\n",
      "\n",
      "* **Features:** The SE (Sport Edition) focused on performance. It included a 3.8L V6 with a 4-barrel carburetor, a 4-speed automatic transmission, sport suspension, and a unique interior with sport seats. \n",
      "* **Performance:** The SE was the sportiest option in the lineup, offering a more engaging driving experience compared to the base and LE models.\n",
      "\n",
      "**4. LSE:**\n",
      "\n",
      "* **Features:** The LSE (Luxury Sport Edition) combined the luxury of the LE with the performance of the SE. It featured the same 3.8L V6 with a 4-barrel carburetor as the SE, along with the luxury features of the LE.\n",
      "* **Performance:**  This model offered the best of both worlds - a balance of comfort and performance.\n",
      "\n",
      "**5. SSE:**\n",
      "\n",
      "* **Features:** The SSE (Super Sport Edition) was the top-of-the-line model. It included the 3.8L V6 with a turbocharger, a 4-speed automatic transmission, sport suspension, unique bodywork, and a distinctive interior.\n",
      "* **Performance:**  The SSE was the most powerful and luxurious model in the lineup, offering a sporty and refined driving experience.\n",
      "\n",
      "**6. SSEi:**\n",
      "\n",
      "* **Features:**  The SSEi (Super Sport Edition-Injection) introduced fuel injection to the 3.8L turbocharged V6, improving performance and fuel economy. It retained the same features as the SSE. \n",
      "* **Performance:**  The SSEi was the ultimate performance Bonneville, offering the best acceleration and handling in the lineup. \n",
      "\n",
      "**Value and Demand:**\n",
      "\n",
      "* **Book Value:**  You can find online resources like Kelley Blue Book or Edmunds to get an estimated book value for a specific 1989 Bonneville model, taking into account its condition, mileage, and options.\n",
      "* **Actual Value:**  Actual selling prices can vary significantly based on location, condition, and demand. \n",
      "* **Spring/Summer Buying:**  While spring and early summer may see some increased demand for classic cars, the Bonneville's popularity isn't as high as some other models. You may find good deals year-round, especially in the fall or winter. \n",
      "* **Negotiation:** You can expect to negotiate with sellers and potentially get a price lower than book value, especially if the car has some flaws or is in need of repairs.\n",
      "\n",
      "**Recommendations:**\n",
      "\n",
      "* **Focus on Your Needs:** Consider your priorities - luxury, performance, or economy - to determine the best Bonneville trim level for you.\n",
      "* **Thorough Inspection:** Regardless of the model, have any potential car inspected by a mechanic before purchasing.\n",
      "* **Research and Compare:** Take your time, research prices, and compare different options before making a decision.\n",
      "\n",
      "Good luck with your search for a classic Bonneville!\n",
      "\n"
     ]
    }
   ],
   "execution_count": 12
  },
  {
   "cell_type": "markdown",
   "source": "You can use the prompt engineering techniques you have learned this week to induce the model to perform the desired task. Try some of your own ideas and see what is effective, or check out the following cells for different approaches. Note that they have different levels of effectiveness!",
   "metadata": {}
  },
  {
   "cell_type": "code",
   "source": "# Ask the model directly in a zero-shot prompt.\n\nprompt = \"From what newsgroup does the following message originate?\"\nbaseline_response = baseline_model.generate_content([prompt, sample_row])\nprint(baseline_response.text)",
   "metadata": {
    "trusted": true,
    "execution": {
     "iopub.status.busy": "2024-11-14T03:24:24.651093Z",
     "iopub.execute_input": "2024-11-14T03:24:24.651492Z",
     "iopub.status.idle": "2024-11-14T03:24:26.256592Z",
     "shell.execute_reply.started": "2024-11-14T03:24:24.65145Z",
     "shell.execute_reply": "2024-11-14T03:24:26.255455Z"
    },
    "ExecuteTime": {
     "end_time": "2025-02-16T18:44:44.809184Z",
     "start_time": "2025-02-16T18:44:43.713721Z"
    }
   },
   "outputs": [
    {
     "name": "stdout",
     "output_type": "stream",
     "text": [
      "This message likely originates from a **Buick-specific newsgroup**. \n",
      "\n",
      "Here's why:\n",
      "\n",
      "* **Subject matter:**  The message focuses on a specific Buick model, the Bonneville. \n",
      "* **Terminology:** The message uses model designations like \"LE,\" \"SE,\" \"LSE,\" \"SSE,\" and \"SSEi,\" all specific to Buick models.\n",
      "* **Question about value:**  The question about book value and typical negotiation range is common in car-related discussions, especially for used vehicles.\n",
      "\n",
      "Therefore, it's highly probable that this message was posted on a newsgroup dedicated to Buick vehicles or possibly a more general newsgroup for classic cars. \n",
      "\n"
     ]
    }
   ],
   "execution_count": 13
  },
  {
   "cell_type": "markdown",
   "source": "That technique produces quite a verbose response. You could try and pick out the relevant text, or refine the prompt even further.",
   "metadata": {}
  },
  {
   "cell_type": "code",
   "source": "from google.api_core import retry\n\n# You can use a system instruction to do more direct prompting, and get a\n# more succinct answer.\n\nsystem_instruct = \"\"\"\nYou are a classification service. You will be passed input that represents\na newsgroup post and you must respond with the newsgroup from which the post\noriginates.\n\"\"\"\n\ninstructed_model = genai.GenerativeModel(\"gemini-1.5-flash-001\",\n                                         system_instruction=system_instruct)\n\nretry_policy = {\"retry\": retry.Retry(predicate=retry.if_transient_error)}\n\n# If you want to evaluate your own technique, replace this function with your\n# model, prompt and other code and return the predicted answer.\ndef predict_label(post: str) -> str:\n    response = instructed_model.generate_content(post, request_options=retry_policy)\n    rc = response.candidates[0]\n\n    # Any errors, filters, recitation, etc we can mark as a general error\n    if rc.finish_reason.name != \"STOP\":\n        return \"(error)\"\n    else:\n        # Clean up the response.\n        return response.text.strip()\n\n\nprediction = predict_label(sample_row)\n\nprint(prediction)\nprint()\nprint(\"Correct!\" if prediction == sample_label else \"Incorrect.\")",
   "metadata": {
    "trusted": true,
    "execution": {
     "iopub.status.busy": "2024-11-14T03:25:26.592373Z",
     "iopub.execute_input": "2024-11-14T03:25:26.592865Z",
     "iopub.status.idle": "2024-11-14T03:25:26.967718Z",
     "shell.execute_reply.started": "2024-11-14T03:25:26.592818Z",
     "shell.execute_reply": "2024-11-14T03:25:26.966458Z"
    },
    "ExecuteTime": {
     "end_time": "2025-02-16T18:44:56.859130Z",
     "start_time": "2025-02-16T18:44:56.457234Z"
    }
   },
   "outputs": [
    {
     "name": "stdout",
     "output_type": "stream",
     "text": [
      "rec.autos.misc\n",
      "\n",
      "Incorrect.\n"
     ]
    }
   ],
   "execution_count": 14
  },
  {
   "cell_type": "markdown",
   "source": "Now run a short evaluation using the function defined above. The test set is further sampled to ensure the experiment runs smoothly on the API's free tier. In practice you would evaluate over the whole set.",
   "metadata": {}
  },
  {
   "cell_type": "code",
   "source": "from tqdm.rich import tqdm\n\ntqdm.pandas()\n\n\n# Further sample the test data to be mindful of the free-tier quota.\ndf_baseline_eval = sample_data(df_test, 2, '.*')\n\n# Make predictions using the sampled data.\ndf_baseline_eval['Prediction'] = df_baseline_eval['Text'].progress_apply(predict_label)\n\n# And calculate the accuracy.\naccuracy = (df_baseline_eval[\"Class Name\"] == df_baseline_eval[\"Prediction\"]).sum() / len(df_baseline_eval)\nprint(f\"Accuracy: {accuracy:.2%}\")",
   "metadata": {
    "trusted": true,
    "execution": {
     "iopub.status.busy": "2024-11-14T03:25:34.365059Z",
     "iopub.execute_input": "2024-11-14T03:25:34.365585Z",
     "iopub.status.idle": "2024-11-14T03:25:40.214328Z",
     "shell.execute_reply.started": "2024-11-14T03:25:34.365535Z",
     "shell.execute_reply": "2024-11-14T03:25:40.213224Z"
    },
    "ExecuteTime": {
     "end_time": "2025-02-16T18:45:23.307123Z",
     "start_time": "2025-02-16T18:45:17.337294Z"
    }
   },
   "outputs": [
    {
     "data": {
      "text/plain": [
       "C:\\Users\\marka\\anaconda3\\envs\\Security-Data-Science\\Lib\\site-packages\\rich\\live.py:231: UserWarning: install \n",
       "\"ipywidgets\" for Jupyter support\n",
       "  warnings.warn('install \"ipywidgets\" for Jupyter support')\n"
      ],
      "text/html": [
       "<pre style=\"white-space:pre;overflow-x:auto;line-height:normal;font-family:Menlo,'DejaVu Sans Mono',consolas,'Courier New',monospace\">C:\\Users\\marka\\anaconda3\\envs\\Security-Data-Science\\Lib\\site-packages\\rich\\live.py:231: UserWarning: install \n",
       "\"ipywidgets\" for Jupyter support\n",
       "  warnings.warn('install \"ipywidgets\" for Jupyter support')\n",
       "</pre>\n"
      ]
     },
     "metadata": {},
     "output_type": "display_data"
    },
    {
     "name": "stderr",
     "output_type": "stream",
     "text": [
      "C:\\Users\\marka\\anaconda3\\envs\\Security-Data-Science\\Lib\\site-packages\\tqdm\\std.py:885: TqdmExperimentalWarning: rich is experimental/alpha\n",
      "  t = cls(total=total, **tqdm_kwargs)\n"
     ]
    },
    {
     "data": {
      "text/plain": [],
      "text/html": [
       "<pre style=\"white-space:pre;overflow-x:auto;line-height:normal;font-family:Menlo,'DejaVu Sans Mono',consolas,'Courier New',monospace\"></pre>\n"
      ]
     },
     "metadata": {},
     "output_type": "display_data"
    },
    {
     "name": "stdout",
     "output_type": "stream",
     "text": [
      "Accuracy: 37.50%\n"
     ]
    }
   ],
   "execution_count": 15
  },
  {
   "cell_type": "markdown",
   "source": "Now take a look at the dataframe to compare the predictions with the labels.",
   "metadata": {}
  },
  {
   "cell_type": "code",
   "source": "df_baseline_eval",
   "metadata": {
    "trusted": true,
    "execution": {
     "iopub.status.busy": "2024-11-14T03:25:44.278198Z",
     "iopub.execute_input": "2024-11-14T03:25:44.278719Z",
     "iopub.status.idle": "2024-11-14T03:25:44.294014Z",
     "shell.execute_reply.started": "2024-11-14T03:25:44.278653Z",
     "shell.execute_reply": "2024-11-14T03:25:44.292877Z"
    },
    "ExecuteTime": {
     "end_time": "2025-02-16T18:45:27.703708Z",
     "start_time": "2025-02-16T18:45:27.697562Z"
    }
   },
   "outputs": [
    {
     "data": {
      "text/plain": [
       "                                                 Text  Label  \\\n",
       "0   Re: Mercury Villager Minivan -- good buy?\\n\\nI...      7   \n",
       "1   Re: Likelihood of radio being stolen\\n\\nThe qu...      7   \n",
       "2   Power Loss under load of a Honda CB360T\\n\\nI h...      8   \n",
       "3   Re: Wanted: Advice for New Cylist\\n\\nIn articl...      8   \n",
       "4   Seeking All Star game Info\\n\\n\\nOK, OK, OK. Fi...      9   \n",
       "5   Re: Why is Barry Bonds not batting 4th?\\n\\nIn ...      9   \n",
       "6   Re: SHARKS:  Kingston Fired!!!\\n\\nIn article <...     10   \n",
       "7   Re: Radio stations\\n\\n (Theodore G. Benjamin) ...     10   \n",
       "8   Re: Clipper considered harmful [Restated and a...     11   \n",
       "9   Re: The Escrow Database.\\n\\nIn article <>  (Da...     11   \n",
       "10  Re: Power, signal surges in home...\\n\\n (Dougl...     12   \n",
       "11  2% silver solder\\n\\n  I have seen the existanc...     12   \n",
       "12  Re: Candida(yeast) Bloom, Fact or Fiction\\n\\nI...     13   \n",
       "13  Re: thyroidal deficiency\\n\\nIn article <>  (Er...     13   \n",
       "14  Re: Abyss-breathing fluids\\n\\nIn <>  (Ata Etem...     14   \n",
       "15  Re: temperature of the dark sky\\n\\nIn article ...     14   \n",
       "\n",
       "            Class Name                         Prediction  \n",
       "0            rec.autos                     rec.autos.misc  \n",
       "1            rec.autos                          rec.autos  \n",
       "2      rec.motorcycles                    rec.motorcycles  \n",
       "3      rec.motorcycles                        rec.cycling  \n",
       "4   rec.sport.baseball                 rec.sport.baseball  \n",
       "5   rec.sport.baseball                 rec.sport.baseball  \n",
       "6     rec.sport.hockey  rec.sports.hockey.san-jose-sharks  \n",
       "7     rec.sport.hockey                   rec.sport.hockey  \n",
       "8            sci.crypt                            (error)  \n",
       "9            sci.crypt               alt.politics.discuss  \n",
       "10     sci.electronics                  rec.radio.amateur  \n",
       "11     sci.electronics            comp.electronics.repair  \n",
       "12             sci.med                         alt.health  \n",
       "13             sci.med                 alt.med.homeopathy  \n",
       "14           sci.space                rec.arts.sf.written  \n",
       "15           sci.space                          sci.space  "
      ],
      "text/html": [
       "<div>\n",
       "<style scoped>\n",
       "    .dataframe tbody tr th:only-of-type {\n",
       "        vertical-align: middle;\n",
       "    }\n",
       "\n",
       "    .dataframe tbody tr th {\n",
       "        vertical-align: top;\n",
       "    }\n",
       "\n",
       "    .dataframe thead th {\n",
       "        text-align: right;\n",
       "    }\n",
       "</style>\n",
       "<table border=\"1\" class=\"dataframe\">\n",
       "  <thead>\n",
       "    <tr style=\"text-align: right;\">\n",
       "      <th></th>\n",
       "      <th>Text</th>\n",
       "      <th>Label</th>\n",
       "      <th>Class Name</th>\n",
       "      <th>Prediction</th>\n",
       "    </tr>\n",
       "  </thead>\n",
       "  <tbody>\n",
       "    <tr>\n",
       "      <th>0</th>\n",
       "      <td>Re: Mercury Villager Minivan -- good buy?\\n\\nI...</td>\n",
       "      <td>7</td>\n",
       "      <td>rec.autos</td>\n",
       "      <td>rec.autos.misc</td>\n",
       "    </tr>\n",
       "    <tr>\n",
       "      <th>1</th>\n",
       "      <td>Re: Likelihood of radio being stolen\\n\\nThe qu...</td>\n",
       "      <td>7</td>\n",
       "      <td>rec.autos</td>\n",
       "      <td>rec.autos</td>\n",
       "    </tr>\n",
       "    <tr>\n",
       "      <th>2</th>\n",
       "      <td>Power Loss under load of a Honda CB360T\\n\\nI h...</td>\n",
       "      <td>8</td>\n",
       "      <td>rec.motorcycles</td>\n",
       "      <td>rec.motorcycles</td>\n",
       "    </tr>\n",
       "    <tr>\n",
       "      <th>3</th>\n",
       "      <td>Re: Wanted: Advice for New Cylist\\n\\nIn articl...</td>\n",
       "      <td>8</td>\n",
       "      <td>rec.motorcycles</td>\n",
       "      <td>rec.cycling</td>\n",
       "    </tr>\n",
       "    <tr>\n",
       "      <th>4</th>\n",
       "      <td>Seeking All Star game Info\\n\\n\\nOK, OK, OK. Fi...</td>\n",
       "      <td>9</td>\n",
       "      <td>rec.sport.baseball</td>\n",
       "      <td>rec.sport.baseball</td>\n",
       "    </tr>\n",
       "    <tr>\n",
       "      <th>5</th>\n",
       "      <td>Re: Why is Barry Bonds not batting 4th?\\n\\nIn ...</td>\n",
       "      <td>9</td>\n",
       "      <td>rec.sport.baseball</td>\n",
       "      <td>rec.sport.baseball</td>\n",
       "    </tr>\n",
       "    <tr>\n",
       "      <th>6</th>\n",
       "      <td>Re: SHARKS:  Kingston Fired!!!\\n\\nIn article &lt;...</td>\n",
       "      <td>10</td>\n",
       "      <td>rec.sport.hockey</td>\n",
       "      <td>rec.sports.hockey.san-jose-sharks</td>\n",
       "    </tr>\n",
       "    <tr>\n",
       "      <th>7</th>\n",
       "      <td>Re: Radio stations\\n\\n (Theodore G. Benjamin) ...</td>\n",
       "      <td>10</td>\n",
       "      <td>rec.sport.hockey</td>\n",
       "      <td>rec.sport.hockey</td>\n",
       "    </tr>\n",
       "    <tr>\n",
       "      <th>8</th>\n",
       "      <td>Re: Clipper considered harmful [Restated and a...</td>\n",
       "      <td>11</td>\n",
       "      <td>sci.crypt</td>\n",
       "      <td>(error)</td>\n",
       "    </tr>\n",
       "    <tr>\n",
       "      <th>9</th>\n",
       "      <td>Re: The Escrow Database.\\n\\nIn article &lt;&gt;  (Da...</td>\n",
       "      <td>11</td>\n",
       "      <td>sci.crypt</td>\n",
       "      <td>alt.politics.discuss</td>\n",
       "    </tr>\n",
       "    <tr>\n",
       "      <th>10</th>\n",
       "      <td>Re: Power, signal surges in home...\\n\\n (Dougl...</td>\n",
       "      <td>12</td>\n",
       "      <td>sci.electronics</td>\n",
       "      <td>rec.radio.amateur</td>\n",
       "    </tr>\n",
       "    <tr>\n",
       "      <th>11</th>\n",
       "      <td>2% silver solder\\n\\n  I have seen the existanc...</td>\n",
       "      <td>12</td>\n",
       "      <td>sci.electronics</td>\n",
       "      <td>comp.electronics.repair</td>\n",
       "    </tr>\n",
       "    <tr>\n",
       "      <th>12</th>\n",
       "      <td>Re: Candida(yeast) Bloom, Fact or Fiction\\n\\nI...</td>\n",
       "      <td>13</td>\n",
       "      <td>sci.med</td>\n",
       "      <td>alt.health</td>\n",
       "    </tr>\n",
       "    <tr>\n",
       "      <th>13</th>\n",
       "      <td>Re: thyroidal deficiency\\n\\nIn article &lt;&gt;  (Er...</td>\n",
       "      <td>13</td>\n",
       "      <td>sci.med</td>\n",
       "      <td>alt.med.homeopathy</td>\n",
       "    </tr>\n",
       "    <tr>\n",
       "      <th>14</th>\n",
       "      <td>Re: Abyss-breathing fluids\\n\\nIn &lt;&gt;  (Ata Etem...</td>\n",
       "      <td>14</td>\n",
       "      <td>sci.space</td>\n",
       "      <td>rec.arts.sf.written</td>\n",
       "    </tr>\n",
       "    <tr>\n",
       "      <th>15</th>\n",
       "      <td>Re: temperature of the dark sky\\n\\nIn article ...</td>\n",
       "      <td>14</td>\n",
       "      <td>sci.space</td>\n",
       "      <td>sci.space</td>\n",
       "    </tr>\n",
       "  </tbody>\n",
       "</table>\n",
       "</div>"
      ]
     },
     "execution_count": 16,
     "metadata": {},
     "output_type": "execute_result"
    }
   ],
   "execution_count": 16
  },
  {
   "cell_type": "markdown",
   "source": "## Tune a custom model\n\nIn this example you'll use tuning to help create a model that requires no prompting or system instructions and outputs succinct text from the classes you provide in the training data.\n\nThe data contains both input text (the processed posts) and output text (the category, or newsgroup), which you can use to start tuning a model.\n\nThe Python SDK for tuning supports Pandas dataframes as input, so you don't need any custom data generators or pipelines. Just specify the input and the relevant columns as the `input_key` and `output_key`.\n\nWhen calling `create_tuned_model`, you can specify model tuning hyperparameters too:\n - `epoch_count`: defines how many times to loop through the data,\n - `batch_size`: defines how many rows to process in a single step, and\n - `learning_rate`: defines the scaling factor for updating model weights at each step.\n\nYou can also choose to omit them and use the defaults. [Learn more](https://developers.google.com/machine-learning/crash-course/linear-regression/hyperparameters) about these parameters and how they work. For this example these parameters were selected by running some tuning jobs and selecting parameters that were both effective and quick.",
   "metadata": {
    "id": "Ok7ugrLzcghX"
   }
  },
  {
   "cell_type": "code",
   "source": "from collections.abc import Iterable\nimport random\n\n\n# Append a random number to the model ID so you can re-run with a higher chance\n# of creating a unique model ID.\nmodel_id = f\"newsgroup-classifier-{random.randint(10000, 99999)}\"\n\n# Upload the training data and queue the tuning job.\ntuning_op = genai.create_tuned_model(\n    \"models/gemini-1.5-flash-001-tuning\",\n    training_data=df_train,\n    input_key=\"Text\",  # the column to use as input\n    output_key=\"Class Name\",  # the column to use as output\n    id=model_id,\n    display_name=\"Newsgroup classification model\",\n    batch_size=16,\n    epoch_count=2,\n)\n\nprint(model_id)",
   "metadata": {
    "id": "pWOZlspfY8dV",
    "trusted": true,
    "execution": {
     "iopub.status.busy": "2024-11-14T03:26:04.861269Z",
     "iopub.execute_input": "2024-11-14T03:26:04.861814Z",
     "iopub.status.idle": "2024-11-14T03:26:05.712733Z",
     "shell.execute_reply.started": "2024-11-14T03:26:04.861768Z",
     "shell.execute_reply": "2024-11-14T03:26:05.711402Z"
    },
    "ExecuteTime": {
     "end_time": "2025-02-16T18:49:12.640710Z",
     "start_time": "2025-02-16T18:49:10.840874Z"
    }
   },
   "outputs": [
    {
     "name": "stdout",
     "output_type": "stream",
     "text": [
      "newsgroup-classifier-27187\n"
     ]
    }
   ],
   "execution_count": 17
  },
  {
   "cell_type": "markdown",
   "source": "This has created a tuning job that will run in the background. To inspect the progress of the tuning job, run this cell to plot the current status and loss curve. Once the status reaches `ACTIVE`, tuning is complete and the model is ready to use.\n\nTuning jobs are queued, so it may look like no training steps have been taken initially but it will progress. Tuning can take upwards of 20 minutes, depending on factors like your dataset size and how busy the tuning infrastrature is. Why not treat yourself to a nice cup of tea while you wait, or come and say \"Hi!\" to [yours truly](https://discord.com/users/132124213132787712) in the group [Discord](https://discord.com/invite/kaggle).\n\nIt is safe to stop this cell at any point. It will not stop the tuning job.",
   "metadata": {
    "id": "NQ3YZ2MBubCY"
   }
  },
  {
   "cell_type": "code",
   "source": "import time\nimport seaborn as sns\n\n\nwhile (tuned_model := genai.get_tuned_model(f\"tunedModels/{model_id}\")).state.name != 'ACTIVE':\n\n    print(tuned_model.state)\n    time.sleep(60)\n\nprint(f\"Done! The model is {tuned_model.state.name}\")\n\n# Plot the loss curve.\nsnapshots = pd.DataFrame(tuned_model.tuning_task.snapshots)\nsns.lineplot(data=snapshots, x=\"step\", y=\"mean_loss\")\n",
   "metadata": {
    "id": "c4ef5f13692d",
    "trusted": true,
    "execution": {
     "iopub.status.busy": "2024-11-14T03:26:06.976904Z",
     "iopub.execute_input": "2024-11-14T03:26:06.977375Z",
     "iopub.status.idle": "2024-11-14T03:32:10.40729Z",
     "shell.execute_reply.started": "2024-11-14T03:26:06.977333Z",
     "shell.execute_reply": "2024-11-14T03:32:10.405652Z"
    },
    "ExecuteTime": {
     "end_time": "2025-02-16T18:53:41.998835Z",
     "start_time": "2025-02-16T18:49:39.701242Z"
    }
   },
   "outputs": [
    {
     "name": "stdout",
     "output_type": "stream",
     "text": [
      "1\n",
      "1\n",
      "1\n",
      "1\n",
      "Done! The model is ACTIVE\n"
     ]
    },
    {
     "data": {
      "text/plain": [
       "<Axes: xlabel='step', ylabel='mean_loss'>"
      ]
     },
     "execution_count": 18,
     "metadata": {},
     "output_type": "execute_result"
    },
    {
     "data": {
      "text/plain": [
       "<Figure size 640x480 with 1 Axes>"
      ],
      "image/png": "[encoded data removed]"
     },
     "metadata": {},
     "output_type": "display_data"
    }
   ],
   "execution_count": 18
  },
  {
   "cell_type": "markdown",
   "source": "Note that the `seaborn` module may output warnings containing `FutureWarning: use_inf_as_na option is deprecated`. These are expected and can be ignored.",
   "metadata": {
    "id": "9-qiIdK4u80z"
   }
  },
  {
   "cell_type": "markdown",
   "source": "## Use the new model\n\nNow that you have a tuned model, try it out with custom data. You use the same API as a normal Gemini API interaction, but you specify your new model as the model name, using the `tunedModels/` prefix.",
   "metadata": {
    "id": "9-qiIdK4u80z"
   }
  },
  {
   "cell_type": "code",
   "source": "your_model = genai.GenerativeModel(f\"tunedModels/{model_id}\")\n\nnew_text = \"\"\"\nFirst-timer looking to get out of here.\n\nHi, I'm writing about my interest in travelling to the outer limits!\n\nWhat kind of craft can I buy? What is easiest to access from this 3rd rock?\n\nLet me know how to do that please.\n\"\"\"\n\nresponse = your_model.generate_content(new_text)\nprint(response.text)",
   "metadata": {
    "id": "hyO2-MXLvM6a",
    "trusted": true,
    "execution": {
     "iopub.status.busy": "2024-11-14T03:32:10.410531Z",
     "iopub.execute_input": "2024-11-14T03:32:10.411522Z",
     "iopub.status.idle": "2024-11-14T03:32:17.642646Z",
     "shell.execute_reply.started": "2024-11-14T03:32:10.411455Z",
     "shell.execute_reply": "2024-11-14T03:32:17.641197Z"
    },
    "ExecuteTime": {
     "end_time": "2025-02-16T19:02:05.681424Z",
     "start_time": "2025-02-16T19:02:03.337399Z"
    }
   },
   "outputs": [
    {
     "name": "stdout",
     "output_type": "stream",
     "text": [
      "sci.space\n"
     ]
    }
   ],
   "execution_count": 19
  },
  {
   "cell_type": "markdown",
   "source": "### Evaluation\n\nYou can see that the model outputs labels that correspond to those in the training data, and without any system instructions or prompting, which is already a great improvement. Now see how well it performs on the test set.\n\nNote that there is no parallelism in this example; classifying the test sub-set will take a few minutes.",
   "metadata": {
    "id": "xajLek9DySH_"
   }
  },
  {
   "cell_type": "code",
   "source": "def classify_text(text: str) -> str:\n    \"\"\"Classify the provided text into a known newsgroup.\"\"\"\n    response = your_model.generate_content(text, request_options=retry_policy)\n    rc = response.candidates[0]\n\n    # Any errors, filters, recitation, etc we can mark as a general error\n    if rc.finish_reason.name != \"STOP\":\n        return \"(error)\"\n    else:\n        return rc.content.parts[0].text\n\n\n# The sampling here is just to minimise your quota usage. If you can, you should\n# evaluate the whole test set with `df_model_eval = df_test.copy()`.\ndf_model_eval = sample_data(df_test, 4, '.*')\n\n\ndf_model_eval[\"Prediction\"] = df_model_eval[\"Text\"].progress_apply(classify_text)\n\naccuracy = (df_model_eval[\"Class Name\"] == df_model_eval[\"Prediction\"]).sum() / len(df_model_eval)\nprint(f\"Accuracy: {accuracy:.2%}\")",
   "metadata": {
    "id": "6T2Y3ZApvbMw",
    "trusted": true,
    "execution": {
     "iopub.status.busy": "2024-11-14T03:32:17.644082Z",
     "iopub.execute_input": "2024-11-14T03:32:17.644483Z",
     "iopub.status.idle": "2024-11-14T03:33:05.035916Z",
     "shell.execute_reply.started": "2024-11-14T03:32:17.644443Z",
     "shell.execute_reply": "2024-11-14T03:33:05.034747Z"
    },
    "ExecuteTime": {
     "end_time": "2025-02-16T19:04:07.637648Z",
     "start_time": "2025-02-16T19:02:07.518076Z"
    }
   },
   "outputs": [
    {
     "data": {
      "text/plain": [
       "C:\\Users\\marka\\anaconda3\\envs\\Security-Data-Science\\Lib\\site-packages\\rich\\live.py:231: UserWarning: install \n",
       "\"ipywidgets\" for Jupyter support\n",
       "  warnings.warn('install \"ipywidgets\" for Jupyter support')\n"
      ],
      "text/html": [
       "<pre style=\"white-space:pre;overflow-x:auto;line-height:normal;font-family:Menlo,'DejaVu Sans Mono',consolas,'Courier New',monospace\">C:\\Users\\marka\\anaconda3\\envs\\Security-Data-Science\\Lib\\site-packages\\rich\\live.py:231: UserWarning: install \n",
       "\"ipywidgets\" for Jupyter support\n",
       "  warnings.warn('install \"ipywidgets\" for Jupyter support')\n",
       "</pre>\n"
      ]
     },
     "metadata": {},
     "output_type": "display_data"
    },
    {
     "name": "stderr",
     "output_type": "stream",
     "text": [
      "C:\\Users\\marka\\anaconda3\\envs\\Security-Data-Science\\Lib\\site-packages\\tqdm\\std.py:885: TqdmExperimentalWarning: rich is experimental/alpha\n",
      "  t = cls(total=total, **tqdm_kwargs)\n"
     ]
    },
    {
     "data": {
      "text/plain": [],
      "text/html": [
       "<pre style=\"white-space:pre;overflow-x:auto;line-height:normal;font-family:Menlo,'DejaVu Sans Mono',consolas,'Courier New',monospace\"></pre>\n"
      ]
     },
     "metadata": {},
     "output_type": "display_data"
    },
    {
     "name": "stdout",
     "output_type": "stream",
     "text": [
      "Accuracy: 93.75%\n"
     ]
    }
   ],
   "execution_count": 20
  },
  {
   "cell_type": "markdown",
   "source": "## Compare token usage\n\nAI Studio and the Gemini API provide model tuning at no cost, however normal limits and charges apply for *use* of a tuned model.\n\nThe size of the input prompt and other generation config like system instructions, as well as the number of generated output tokens, all contribute to the overall cost of a request.",
   "metadata": {}
  },
  {
   "cell_type": "code",
   "source": "# Calculate the *input* cost of the baseline model with system instructions.\nsysint_tokens = instructed_model.count_tokens(sample_row).total_tokens\nprint(f'System instructed baseline model: {sysint_tokens} (input)')\n\n# Calculate the input cost of the tuned model.\ntuned_tokens = your_model.count_tokens(sample_row).total_tokens\nprint(f'Tuned model: {tuned_tokens} (input)')\n\nsavings = (sysint_tokens - tuned_tokens) / tuned_tokens\nprint(f'Token savings: {savings:.2%}')  # Note that this is only n=1.",
   "metadata": {
    "trusted": true,
    "execution": {
     "iopub.status.busy": "2024-11-14T03:33:05.039144Z",
     "iopub.execute_input": "2024-11-14T03:33:05.03965Z",
     "iopub.status.idle": "2024-11-14T03:33:05.399134Z",
     "shell.execute_reply.started": "2024-11-14T03:33:05.039596Z",
     "shell.execute_reply": "2024-11-14T03:33:05.397806Z"
    },
    "ExecuteTime": {
     "end_time": "2025-02-16T19:04:08.100878Z",
     "start_time": "2025-02-16T19:04:07.870806Z"
    }
   },
   "outputs": [
    {
     "name": "stdout",
     "output_type": "stream",
     "text": [
      "System instructed baseline model: 171 (input)\n",
      "Tuned model: 135 (input)\n",
      "Token savings: 26.67%\n"
     ]
    }
   ],
   "execution_count": 21
  },
  {
   "cell_type": "markdown",
   "source": "The earlier verbose model also produced more output tokens than needed for this task.",
   "metadata": {}
  },
  {
   "cell_type": "code",
   "source": "baseline_token_output = baseline_response.usage_metadata.candidates_token_count\nprint('Baseline (verbose) output tokens:', baseline_token_output)\n\ntuned_model_output = your_model.generate_content(sample_row)\ntuned_tokens_output = tuned_model_output.usage_metadata.candidates_token_count\nprint('Tuned output tokens:', tuned_tokens_output)",
   "metadata": {
    "trusted": true,
    "execution": {
     "iopub.status.busy": "2024-11-14T03:33:05.400739Z",
     "iopub.execute_input": "2024-11-14T03:33:05.401116Z",
     "iopub.status.idle": "2024-11-14T03:33:06.369214Z",
     "shell.execute_reply.started": "2024-11-14T03:33:05.401076Z",
     "shell.execute_reply": "2024-11-14T03:33:06.367883Z"
    },
    "ExecuteTime": {
     "end_time": "2025-02-16T19:04:08.791283Z",
     "start_time": "2025-02-16T19:04:08.103391Z"
    }
   },
   "outputs": [
    {
     "name": "stdout",
     "output_type": "stream",
     "text": [
      "Baseline (verbose) output tokens: 138\n",
      "Tuned output tokens: 3\n"
     ]
    }
   ],
   "execution_count": 22
  },
  {
   "cell_type": "markdown",
   "source": "## Next steps\n\nNow that you have tuned a classification model, try some other tasks, like tuning a model to respond with a specific tone or style using hand-written examples (or even generated examples!). Kaggle hosts [a number of datasets](https://www.kaggle.com/datasets) you can try out.\n\nLearn about [when supervised fine-tuning is most effective](https://cloud.google.com/blog/products/ai-machine-learning/supervised-fine-tuning-for-gemini-llm).\n\nAnd check out the [fine-tuning tutorial](https://ai.google.dev/gemini-api/docs/model-tuning/tutorial?hl=en&lang=python) for another example that shows a tuned model extending beyond the training data to new, unseen inputs.",
   "metadata": {
    "id": "6c1204a5d0ab"
   }
  },
  {
   "metadata": {},
   "cell_type": "code",
   "outputs": [],
   "execution_count": null,
   "source": ""
  }
 ]
}
