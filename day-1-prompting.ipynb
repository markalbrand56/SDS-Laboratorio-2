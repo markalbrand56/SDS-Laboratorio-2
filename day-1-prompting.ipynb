{
 "metadata": {
  "kernelspec": {
   "name": "python3",
   "display_name": "Python 3",
   "language": "python"
  },
  "language_info": {
   "name": "python",
   "version": "3.10.14",
   "mimetype": "text/x-python",
   "codemirror_mode": {
    "name": "ipython",
    "version": 3
   },
   "pygments_lexer": "ipython3",
   "nbconvert_exporter": "python",
   "file_extension": ".py"
  },
  "colab": {
   "name": "day-1-prompting.ipynb",
   "toc_visible": true
  },
  "kaggle": {
   "accelerator": "none",
   "dataSources": [],
   "dockerImageVersionId": 30786,
   "isInternetEnabled": true,
   "language": "python",
   "sourceType": "notebook",
   "isGpuEnabled": false
  }
 },
 "nbformat_minor": 4,
 "nbformat": 4,
 "cells": [
  {
   "metadata": {},
   "cell_type": "markdown",
   "source": [
    "# Laboratorio 2: GenAI Intensive course\n",
    "\n",
    "## Security Data Science\n",
    "\n",
    "**Mark Albrand - 21004**"
   ]
  },
  {
   "cell_type": "markdown",
   "source": "##### Copyright 2024 Google LLC.",
   "metadata": {
    "id": "jkxRSYjzA1oX"
   }
  },
  {
   "cell_type": "code",
   "source": "# @title Licensed under the Apache License, Version 2.0 (the \"License\");\n# you may not use this file except in compliance with the License.\n# You may obtain a copy of the License at\n#\n# https://www.apache.org/licenses/LICENSE-2.0\n#\n# Unless required by applicable law or agreed to in writing, software\n# distributed under the License is distributed on an \"AS IS\" BASIS,\n# WITHOUT WARRANTIES OR CONDITIONS OF ANY KIND, either express or implied.\n# See the License for the specific language governing permissions and\n# limitations under the License.",
   "metadata": {
    "cellView": "form",
    "id": "5u5OZ2ShA3BA",
    "jupyter": {
     "source_hidden": true
    },
    "trusted": true,
    "execution": {
     "iopub.status.busy": "2024-11-13T10:05:21.693311Z",
     "iopub.execute_input": "2024-11-13T10:05:21.694231Z",
     "iopub.status.idle": "2024-11-13T10:05:21.718369Z",
     "shell.execute_reply.started": "2024-11-13T10:05:21.694187Z",
     "shell.execute_reply": "2024-11-13T10:05:21.717194Z"
    }
   },
   "outputs": [],
   "execution_count": null
  },
  {
   "cell_type": "markdown",
   "source": "# Day 1 - Prompting\n\nWelcome to the Kaggle 5-day Generative AI course!\n\nThis notebook will show you how to get started with the Gemini API and walk you through some of the example prompts and techniques that you can also read about in the Prompting whitepaper. You don't need to read the whitepaper to use this notebook, but the papers will give you some theoretical context and background to complement this interactive notebook.\n\n\n## Before you begin\n\nIn this notebook, you'll start exploring prompts and prompt parameters using the Python SDK and AI Studio. For some inspiration, you might enjoy exploring some apps that have been built using the Gemini family of models. Here are a few that we like, and we think you will too.\n\n* [TextFX](https://textfx.withgoogle.com/) is a suite of AI-powered tools for rappers, made in collaboration with Lupe Fiasco,\n* [SQL Talk](https://sql-talk-r5gdynozbq-uc.a.run.app/) shows how you can talk directly to a database using the Gemini API,\n* [NotebookLM](https://notebooklm.google/) uses Gemini models to build your own personal AI research assistant.\n\n\n## For help\n\n**Common issues are covered in the [FAQ and troubleshooting guide](https://www.kaggle.com/code/markishere/day-0-troubleshooting-and-faqs).**\n\n### A note on the Gemini API and Vertex AI\n\nIn the whitepapers, most of the example code uses the Enterprise [Vertex AI platform](https://cloud.google.com/vertex-ai). In contrast, this notebook, along with the others in this series, will use the [Gemini Developer API](https://ai.google.dev/gemini-api/) and [AI Studio](https://aistudio.google.com/).\n\nBoth APIs provide access to the Gemini family of models, and the code to interact with the models is very similar. Vertex provides a world-class platform for enterprises, governments and advanced users that need powerful features like data governance, ML ops and deep Google Cloud integration.\n\nAI Studio is free to use and only requires a compatible Google account to log in and get started. It is deeply integrated with the Gemini API, which comes with a generous [free tier](https://ai.google.dev/pricing) that you can use to run the code in these exercises.\n\nIf you are already set up with Google Cloud, you can check out the [Enterprise Gemini API](https://cloud.google.com/vertex-ai/generative-ai/docs/model-reference/inference) through Vertex AI, and run the samples directly from the supplied whitepapers.",
   "metadata": {
    "id": "csNPnkuCobmG"
   }
  },
  {
   "cell_type": "markdown",
   "source": "## Get started with the Gemini API\n\nAll of the exercises in this notebook will use the [Gemini API](https://ai.google.dev/gemini-api/) by way of the [Python SDK](https://pypi.org/project/google-generativeai/). Each of these prompts can be accessed directly in [Google AI Studio](https://aistudio.google.com/) too, so if you would rather use a web interface and skip the code for this activity, look for the <img src=\"https://ai.google.dev/site-assets/images/marketing/home/icon-ais.png\" style=\"height: 24px\" height=24/> AI Studio link on each prompt.",
   "metadata": {
    "id": "ExkOXcPxtTb5"
   }
  },
  {
   "cell_type": "markdown",
   "source": "### Install the SDK",
   "metadata": {
    "id": "UAjUV3BsvFXQ"
   }
  },
  {
   "cell_type": "code",
   "source": "%pip install -U -q \"google-generativeai>=0.8.3\"",
   "metadata": {
    "id": "NzwzJFU9LqkJ",
    "trusted": true,
    "execution": {
     "iopub.status.busy": "2025-02-15T22:32:11.221732Z",
     "iopub.execute_input": "2025-02-15T22:32:11.222145Z",
     "iopub.status.idle": "2025-02-15T22:32:37.477104Z",
     "shell.execute_reply.started": "2025-02-15T22:32:11.222088Z",
     "shell.execute_reply": "2025-02-15T22:32:37.475769Z"
    },
    "ExecuteTime": {
     "end_time": "2025-02-15T22:44:51.127550Z",
     "start_time": "2025-02-15T22:44:49.259369Z"
    }
   },
   "outputs": [
    {
     "name": "stdout",
     "output_type": "stream",
     "text": [
      "Note: you may need to restart the kernel to use updated packages.\n"
     ]
    }
   ],
   "execution_count": 1
  },
  {
   "cell_type": "markdown",
   "source": "You do not need to restart the kernel.",
   "metadata": {}
  },
  {
   "cell_type": "code",
   "source": "import google.generativeai as genai\nfrom IPython.display import HTML, Markdown, display",
   "metadata": {
    "id": "5DwxYIRavMST",
    "trusted": true,
    "execution": {
     "iopub.status.busy": "2025-02-15T22:34:21.411107Z",
     "iopub.execute_input": "2025-02-15T22:34:21.411472Z",
     "iopub.status.idle": "2025-02-15T22:34:22.491475Z",
     "shell.execute_reply.started": "2025-02-15T22:34:21.411440Z",
     "shell.execute_reply": "2025-02-15T22:34:22.490458Z"
    },
    "ExecuteTime": {
     "end_time": "2025-02-15T22:44:55.859739Z",
     "start_time": "2025-02-15T22:44:55.100363Z"
    }
   },
   "outputs": [
    {
     "name": "stderr",
     "output_type": "stream",
     "text": [
      "C:\\Users\\marka\\anaconda3\\envs\\Security-Data-Science\\Lib\\site-packages\\tqdm\\auto.py:21: TqdmWarning: IProgress not found. Please update jupyter and ipywidgets. See https://ipywidgets.readthedocs.io/en/stable/user_install.html\n",
      "  from .autonotebook import tqdm as notebook_tqdm\n"
     ]
    }
   ],
   "execution_count": 2
  },
  {
   "cell_type": "markdown",
   "source": "### Set up your API key\n\nTo run the following cell, your API key must be stored it in a [Kaggle secret](https://www.kaggle.com/discussions/product-feedback/114053) named `GOOGLE_API_KEY`.\n\nIf you don't already have an API key, you can grab one from [AI Studio](https://aistudio.google.com/app/apikey). You can find [detailed instructions in the docs](https://ai.google.dev/gemini-api/docs/api-key).\n\nTo make the key available through Kaggle secrets, choose `Secrets` from the `Add-ons` menu and follow the instructions to add your key or enable it for this notebook.",
   "metadata": {
    "id": "DNEt2BCOvOJ1"
   }
  },
  {
   "cell_type": "code",
   "source": [
    "import dotenv\n",
    "import os\n",
    "\n",
    "dotenv.load_dotenv()\n",
    "\n",
    "GOOGLE_API_KEY = os.getenv(\"GOOGLE_API_KEY\")\n",
    "genai.configure(api_key=GOOGLE_API_KEY)"
   ],
   "metadata": {
    "id": "SHl0bkPCvayd",
    "trusted": true,
    "execution": {
     "iopub.status.busy": "2025-02-15T22:34:27.338065Z",
     "iopub.execute_input": "2025-02-15T22:34:27.338840Z",
     "iopub.status.idle": "2025-02-15T22:34:27.554802Z",
     "shell.execute_reply.started": "2025-02-15T22:34:27.338797Z",
     "shell.execute_reply": "2025-02-15T22:34:27.553740Z"
    },
    "ExecuteTime": {
     "end_time": "2025-02-15T22:46:16.111381Z",
     "start_time": "2025-02-15T22:46:16.108119Z"
    }
   },
   "outputs": [],
   "execution_count": 6
  },
  {
   "cell_type": "markdown",
   "source": "### Run your first prompt\n\nIn this step, you will test that your API key is set up correctly by making a request. The `gemini-1.5-flash` model has been selected here.",
   "metadata": {
    "id": "H_YXCYIKvyZJ"
   }
  },
  {
   "cell_type": "code",
   "source": "flash = genai.GenerativeModel('gemini-1.5-flash')\nresponse = flash.generate_content(\"Explain AI to me like I'm a kid.\")\nprint(response.text)",
   "metadata": {
    "id": "BV1o0PmcvyJF",
    "trusted": true,
    "execution": {
     "iopub.status.busy": "2025-02-15T22:34:35.962138Z",
     "iopub.execute_input": "2025-02-15T22:34:35.962607Z",
     "iopub.status.idle": "2025-02-15T22:34:37.917369Z",
     "shell.execute_reply.started": "2025-02-15T22:34:35.962561Z",
     "shell.execute_reply": "2025-02-15T22:34:37.916284Z"
    },
    "ExecuteTime": {
     "end_time": "2025-02-15T22:46:19.780088Z",
     "start_time": "2025-02-15T22:46:17.488676Z"
    }
   },
   "outputs": [
    {
     "name": "stdout",
     "output_type": "stream",
     "text": [
      "Imagine you have a really smart puppy.  You teach it tricks, like \"sit\" and \"fetch.\"  At first, the puppy doesn't know what those words mean. But you show it, and give it treats when it does it right.  Slowly, the puppy learns!\n",
      "\n",
      "Artificial intelligence, or AI, is like that, but with computers!  Instead of treats, we give computers lots and lots of information. We show them pictures of cats and tell them \"this is a cat.\"  We show them videos of people dancing and tell them \"this is dancing.\"\n",
      "\n",
      "The computer learns from all this information, just like the puppy learns from treats.  Then, it can start to do things on its own, like:\n",
      "\n",
      "* **Recognize things:**  Show it a new picture of a cat, and it might say \"cat!\" even though it's never seen that specific cat before.\n",
      "* **Answer questions:** You can ask it \"What's the capital of France?\" and it might say \"Paris!\" because it learned that from all the information it was given.\n",
      "* **Play games:** It can learn to play chess or video games and get really good at them!\n",
      "\n",
      "\n",
      "So, AI is like teaching a computer to be smart and learn things on its own. It's still learning and getting better all the time, just like your puppy!\n",
      "\n"
     ]
    }
   ],
   "execution_count": 7
  },
  {
   "cell_type": "markdown",
   "source": "The response often comes back in markdown format, which you can render directly in this notebook.",
   "metadata": {
    "id": "f60ed9d8ae41"
   }
  },
  {
   "cell_type": "code",
   "source": "Markdown(response.text)",
   "metadata": {
    "id": "c933e5e460a5",
    "trusted": true,
    "execution": {
     "iopub.status.busy": "2024-11-13T10:05:25.5113Z",
     "iopub.execute_input": "2024-11-13T10:05:25.511712Z",
     "iopub.status.idle": "2024-11-13T10:05:25.519989Z",
     "shell.execute_reply.started": "2024-11-13T10:05:25.511668Z",
     "shell.execute_reply": "2024-11-13T10:05:25.518926Z"
    },
    "ExecuteTime": {
     "end_time": "2025-02-15T22:46:23.124705Z",
     "start_time": "2025-02-15T22:46:23.119391Z"
    }
   },
   "outputs": [
    {
     "data": {
      "text/plain": [
       "<IPython.core.display.Markdown object>"
      ],
      "text/markdown": "Imagine you have a really smart puppy.  You teach it tricks, like \"sit\" and \"fetch.\"  At first, the puppy doesn't know what those words mean. But you show it, and give it treats when it does it right.  Slowly, the puppy learns!\n\nArtificial intelligence, or AI, is like that, but with computers!  Instead of treats, we give computers lots and lots of information. We show them pictures of cats and tell them \"this is a cat.\"  We show them videos of people dancing and tell them \"this is dancing.\"\n\nThe computer learns from all this information, just like the puppy learns from treats.  Then, it can start to do things on its own, like:\n\n* **Recognize things:**  Show it a new picture of a cat, and it might say \"cat!\" even though it's never seen that specific cat before.\n* **Answer questions:** You can ask it \"What's the capital of France?\" and it might say \"Paris!\" because it learned that from all the information it was given.\n* **Play games:** It can learn to play chess or video games and get really good at them!\n\n\nSo, AI is like teaching a computer to be smart and learn things on its own. It's still learning and getting better all the time, just like your puppy!\n"
     },
     "execution_count": 8,
     "metadata": {},
     "output_type": "execute_result"
    }
   ],
   "execution_count": 8
  },
  {
   "cell_type": "markdown",
   "source": "### Start a chat\n\nThe previous example uses a single-turn, text-in/text-out structure, but you can also set up a multi-turn chat structure too.",
   "metadata": {
    "id": "byx0pT9ZMW2Q"
   }
  },
  {
   "cell_type": "code",
   "source": "chat = flash.start_chat(history=[])\nresponse = chat.send_message('Hello! My name is Zlork.')\nprint(response.text)",
   "metadata": {
    "id": "lV_S5ZL5MidD",
    "trusted": true,
    "execution": {
     "iopub.status.busy": "2024-11-13T10:05:25.521624Z",
     "iopub.execute_input": "2024-11-13T10:05:25.522042Z",
     "iopub.status.idle": "2024-11-13T10:05:26.061292Z",
     "shell.execute_reply.started": "2024-11-13T10:05:25.521996Z",
     "shell.execute_reply": "2024-11-13T10:05:26.060247Z"
    },
    "ExecuteTime": {
     "end_time": "2025-02-15T22:46:27.732999Z",
     "start_time": "2025-02-15T22:46:27.192745Z"
    }
   },
   "outputs": [
    {
     "name": "stdout",
     "output_type": "stream",
     "text": [
      "It's nice to meet you, Zlork!  How can I help you today?\n",
      "\n"
     ]
    }
   ],
   "execution_count": 9
  },
  {
   "cell_type": "code",
   "source": "response = chat.send_message('Can you tell something interesting about dinosaurs?')\nprint(response.text)",
   "metadata": {
    "id": "7b0372c3c64a",
    "trusted": true,
    "execution": {
     "iopub.status.busy": "2024-11-13T10:05:26.06248Z",
     "iopub.execute_input": "2024-11-13T10:05:26.062804Z",
     "iopub.status.idle": "2024-11-13T10:05:27.754542Z",
     "shell.execute_reply.started": "2024-11-13T10:05:26.062756Z",
     "shell.execute_reply": "2024-11-13T10:05:27.753432Z"
    },
    "ExecuteTime": {
     "end_time": "2025-02-15T22:46:30.960297Z",
     "start_time": "2025-02-15T22:46:30.143833Z"
    }
   },
   "outputs": [
    {
     "name": "stdout",
     "output_type": "stream",
     "text": [
      "Did you know that some dinosaurs had feathers?  While we often picture dinosaurs as scaly reptiles,  many species, particularly theropods (the group that includes *Tyrannosaurus rex* and *Velociraptor*), possessed feathers, ranging from simple filaments to complex, flight-capable plumage.  This discovery has significantly changed our understanding of dinosaur evolution and their relationship to birds, which are now considered to be a type of dinosaur.\n",
      "\n"
     ]
    }
   ],
   "execution_count": 10
  },
  {
   "cell_type": "code",
   "source": "# While you have the `chat` object around, the conversation state\n# persists. Confirm that by asking if it knows my name.\nresponse = chat.send_message('Do you remember what my name is?')\nprint(response.text)",
   "metadata": {
    "id": "d3f9591392a7",
    "trusted": true,
    "execution": {
     "iopub.status.busy": "2024-11-13T10:05:27.755901Z",
     "iopub.execute_input": "2024-11-13T10:05:27.756315Z",
     "iopub.status.idle": "2024-11-13T10:05:28.890313Z",
     "shell.execute_reply.started": "2024-11-13T10:05:27.756269Z",
     "shell.execute_reply": "2024-11-13T10:05:28.889171Z"
    },
    "ExecuteTime": {
     "end_time": "2025-02-15T22:46:31.807870Z",
     "start_time": "2025-02-15T22:46:31.467723Z"
    }
   },
   "outputs": [
    {
     "name": "stdout",
     "output_type": "stream",
     "text": [
      "Yes, your name is Zlork.\n",
      "\n"
     ]
    }
   ],
   "execution_count": 11
  },
  {
   "cell_type": "markdown",
   "source": "### Choose a model\n\nThe Gemini API provides access to a number of models from the Gemini model family. Read about the available models and their capabilities on the [model overview page](https://ai.google.dev/gemini-api/docs/models/gemini).\n\nIn this step you'll use the API to list all of the available models.",
   "metadata": {
    "id": "2KAjpr1200sW"
   }
  },
  {
   "cell_type": "code",
   "source": "for model in genai.list_models():\n  print(model.name)",
   "metadata": {
    "id": "uUUZa2uq2jDm",
    "trusted": true,
    "execution": {
     "iopub.status.busy": "2024-11-13T10:05:28.891522Z",
     "iopub.execute_input": "2024-11-13T10:05:28.89188Z",
     "iopub.status.idle": "2024-11-13T10:05:29.666267Z",
     "shell.execute_reply.started": "2024-11-13T10:05:28.891837Z",
     "shell.execute_reply": "2024-11-13T10:05:29.665119Z"
    },
    "ExecuteTime": {
     "end_time": "2025-02-15T22:46:34.833010Z",
     "start_time": "2025-02-15T22:46:34.576138Z"
    }
   },
   "outputs": [
    {
     "name": "stdout",
     "output_type": "stream",
     "text": [
      "models/chat-bison-001\n",
      "models/text-bison-001\n",
      "models/embedding-gecko-001\n",
      "models/gemini-1.0-pro-latest\n",
      "models/gemini-1.0-pro\n",
      "models/gemini-pro\n",
      "models/gemini-1.0-pro-001\n",
      "models/gemini-1.0-pro-vision-latest\n",
      "models/gemini-pro-vision\n",
      "models/gemini-1.5-pro-latest\n",
      "models/gemini-1.5-pro-001\n",
      "models/gemini-1.5-pro-002\n",
      "models/gemini-1.5-pro\n",
      "models/gemini-1.5-flash-latest\n",
      "models/gemini-1.5-flash-001\n",
      "models/gemini-1.5-flash-001-tuning\n",
      "models/gemini-1.5-flash\n",
      "models/gemini-1.5-flash-002\n",
      "models/gemini-1.5-flash-8b\n",
      "models/gemini-1.5-flash-8b-001\n",
      "models/gemini-1.5-flash-8b-latest\n",
      "models/gemini-1.5-flash-8b-exp-0827\n",
      "models/gemini-1.5-flash-8b-exp-0924\n",
      "models/gemini-2.0-flash-exp\n",
      "models/gemini-2.0-flash\n",
      "models/gemini-2.0-flash-001\n",
      "models/gemini-2.0-flash-lite-preview\n",
      "models/gemini-2.0-flash-lite-preview-02-05\n",
      "models/gemini-2.0-pro-exp\n",
      "models/gemini-2.0-pro-exp-02-05\n",
      "models/gemini-exp-1206\n",
      "models/gemini-2.0-flash-thinking-exp-01-21\n",
      "models/gemini-2.0-flash-thinking-exp\n",
      "models/gemini-2.0-flash-thinking-exp-1219\n",
      "models/learnlm-1.5-pro-experimental\n",
      "models/embedding-001\n",
      "models/text-embedding-004\n",
      "models/aqa\n",
      "models/imagen-3.0-generate-002\n"
     ]
    }
   ],
   "execution_count": 12
  },
  {
   "cell_type": "markdown",
   "source": "The [`models.list`](https://ai.google.dev/api/models#method:-models.list) response also returns additional information about the model's capabilities, like the token limits and supported parameters.",
   "metadata": {
    "id": "rN49kSI54R1v"
   }
  },
  {
   "cell_type": "code",
   "source": "for model in genai.list_models():\n  if model.name == 'models/gemini-1.5-flash':\n    print(model)\n    break",
   "metadata": {
    "id": "k7JJ1K6j4Rl8",
    "trusted": true,
    "execution": {
     "iopub.status.busy": "2024-11-13T10:05:29.667381Z",
     "iopub.execute_input": "2024-11-13T10:05:29.667716Z",
     "iopub.status.idle": "2024-11-13T10:05:30.437751Z",
     "shell.execute_reply.started": "2024-11-13T10:05:29.667682Z",
     "shell.execute_reply": "2024-11-13T10:05:30.43676Z"
    },
    "ExecuteTime": {
     "end_time": "2025-02-15T22:46:36.484295Z",
     "start_time": "2025-02-15T22:46:36.422989Z"
    }
   },
   "outputs": [
    {
     "name": "stdout",
     "output_type": "stream",
     "text": [
      "Model(name='models/gemini-1.5-flash',\n",
      "      base_model_id='',\n",
      "      version='001',\n",
      "      display_name='Gemini 1.5 Flash',\n",
      "      description=('Alias that points to the most recent stable version of Gemini 1.5 Flash, our '\n",
      "                   'fast and versatile multimodal model for scaling across diverse tasks.'),\n",
      "      input_token_limit=1000000,\n",
      "      output_token_limit=8192,\n",
      "      supported_generation_methods=['generateContent', 'countTokens'],\n",
      "      temperature=1.0,\n",
      "      max_temperature=2.0,\n",
      "      top_p=0.95,\n",
      "      top_k=40)\n"
     ]
    }
   ],
   "execution_count": 13
  },
  {
   "cell_type": "markdown",
   "source": "## Explore generation parameters\n\n",
   "metadata": {
    "id": "5rU_UBlZdooM"
   }
  },
  {
   "cell_type": "markdown",
   "source": "### Output length\n\nWhen generating text with an LLM, the output length affects cost and performance. Generating more tokens increases computation, leading to higher energy consumption, latency, and cost.\n\nTo stop the model from generating tokens past a limit, you can specify the `max_output_tokens` parameter when using the Gemini API. Specifying this parameter does not influence the generation of the output tokens, so the output will not become more stylistically or textually succinct, but it will stop generating tokens once the specified length is reached. Prompt engineering may be required to generate a more complete output for your given limit.",
   "metadata": {
    "id": "G7NfEizeipbW"
   }
  },
  {
   "cell_type": "code",
   "source": "short_model = genai.GenerativeModel(\n    'gemini-1.5-flash',\n    generation_config=genai.GenerationConfig(max_output_tokens=200))\n\nresponse = short_model.generate_content('Write a 1000 word essay on the importance of olives in modern society.')\nprint(response.text)",
   "metadata": {
    "id": "qVf23JsIi9ma",
    "trusted": true,
    "execution": {
     "iopub.status.busy": "2024-11-13T10:05:30.43932Z",
     "iopub.execute_input": "2024-11-13T10:05:30.439731Z",
     "iopub.status.idle": "2024-11-13T10:05:31.923823Z",
     "shell.execute_reply.started": "2024-11-13T10:05:30.439685Z",
     "shell.execute_reply": "2024-11-13T10:05:31.922836Z"
    },
    "ExecuteTime": {
     "end_time": "2025-02-15T22:46:41.063062Z",
     "start_time": "2025-02-15T22:46:39.617241Z"
    }
   },
   "outputs": [
    {
     "name": "stdout",
     "output_type": "stream",
     "text": [
      "## The Enduring Significance of Olives in Modern Society\n",
      "\n",
      "The olive, a seemingly unassuming fruit, holds a position of profound importance in modern society that extends far beyond its culinary applications.  From its economic impact on Mediterranean countries to its symbolic role in history and culture, and its increasingly recognized health benefits, the olive's significance is multifaceted and enduring.  Understanding its contribution requires exploring its influence across agricultural, economic, social, and even political landscapes.\n",
      "\n",
      "The olive’s primary importance stems from its role in agriculture and the global economy.  The olive tree, *Olea europaea*, is a remarkably resilient plant, thriving in harsh, arid climates where other crops struggle. This adaptability has made it a cornerstone of agriculture in the Mediterranean region for millennia, providing livelihoods for countless farmers and shaping the landscape of countries like Greece, Italy, Spain, and Tunisia.  Olive cultivation is a labor-intensive process, requiring careful pruning, harvesting, and processing, thus supporting a significant workforce across the\n"
     ]
    }
   ],
   "execution_count": 14
  },
  {
   "cell_type": "code",
   "source": "response = short_model.generate_content('Write a short poem on the importance of olives in modern society.')\nprint(response.text)",
   "metadata": {
    "id": "W-3kR2F5kdMR",
    "trusted": true,
    "execution": {
     "iopub.status.busy": "2024-11-13T10:05:31.925426Z",
     "iopub.execute_input": "2024-11-13T10:05:31.925864Z",
     "iopub.status.idle": "2024-11-13T10:05:32.947457Z",
     "shell.execute_reply.started": "2024-11-13T10:05:31.925817Z",
     "shell.execute_reply": "2024-11-13T10:05:32.946359Z"
    },
    "ExecuteTime": {
     "end_time": "2025-02-15T22:46:42.804107Z",
     "start_time": "2025-02-15T22:46:41.801414Z"
    }
   },
   "outputs": [
    {
     "name": "stdout",
     "output_type": "stream",
     "text": [
      "From ancient groves, a bounty flows,\n",
      "The olive's gift, the world bestows.\n",
      "In oil it shines, a kitchen's grace,\n",
      "A flavour bright, in every place.\n",
      "\n",
      "On salads tossed, a vibrant hue,\n",
      "In breads it's baked, both old and new.\n",
      "A symbol strong, of sun-drenched land,\n",
      "A simple fruit, in constant demand.  \n",
      "\n",
      "From table spread to beauty's art,\n",
      "The olive holds a vital part,\n",
      "In modern life, a taste so deep,\n",
      "A treasure that we'll always keep.\n",
      "\n"
     ]
    }
   ],
   "execution_count": 15
  },
  {
   "cell_type": "markdown",
   "source": "Explore with your own prompts. Try a prompt with a restrictive output limit and then adjust the prompt to work within that limit.",
   "metadata": {
    "id": "3ZhDSLB6lqqB"
   }
  },
  {
   "metadata": {
    "ExecuteTime": {
     "end_time": "2025-02-15T22:47:53.068128Z",
     "start_time": "2025-02-15T22:47:50.632093Z"
    }
   },
   "cell_type": "code",
   "source": [
    "short_model = genai.GenerativeModel(\n",
    "    'gemini-1.5-flash',\n",
    "    generation_config=genai.GenerationConfig(max_output_tokens=350))\n",
    "\n",
    "response = short_model.generate_content('Cuéntame sobre el Dodge Challenger 2015 y el impacto que tuvo en la industria automotriz.')\n",
    "Markdown(response.text)"
   ],
   "outputs": [
    {
     "data": {
      "text/plain": [
       "<IPython.core.display.Markdown object>"
      ],
      "text/markdown": "El Dodge Challenger 2015, aunque no revolucionó la industria automotriz en el sentido de introducir tecnologías completamente nuevas, tuvo un impacto significativo por su posicionamiento estratégico y su éxito comercial dentro de un nicho específico: los muscle cars modernos.\n\nSu impacto se puede resumir en los siguientes puntos:\n\n* **Reafirmando la popularidad del muscle car:**  A pesar de la tendencia hacia vehículos más pequeños y eficientes en combustible, el Challenger 2015 (y su plataforma compartida con el Charger) demostró que aún existía un mercado considerable para vehículos potentes, de estilo agresivo y con un toque nostálgico.  Su diseño retro, evocando la estética de los Challengers clásicos, resonó con una base de clientes leales y atrajo a un nuevo público fascinado con su estética.  Contribuyó a revitalizar el segmento de los muscle cars, creando una competencia renovada con el Ford Mustang y el Chevrolet Camaro.\n\n* **Opciones de motorización variada:**  Ofrecer una gama de motores, desde V6 relativamente económicos hasta el potente Hellcat de 6.2 litros y supercargador, permitió que el Challenger atrajera a un público más amplio.  El Hellcat, en particular, se convirtió en un icono de la potencia y un punto de referencia para los coches de producción masiva con alta potencia.\n\n* **Éxito comercial para Dodge:**  El Challenger 2015 y sus años sucesores fueron un éxito comercial para Dodge, contribuyendo significativamente a las ventas de la marca y su imagen.  Esto reforzó la estrategia de FCA (Fiat Chrysler Automobiles) de centrarse en vehículos de alto rendimiento y con personalidad distintiva.\n\n*"
     },
     "execution_count": 17,
     "metadata": {},
     "output_type": "execute_result"
    }
   ],
   "execution_count": 17
  },
  {
   "cell_type": "markdown",
   "source": "### Temperature\n\nTemperature controls the degree of randomness in token selection. Higher temperatures result in a higher number of candidate tokens from which the next output token is selected, and can produce more diverse results, while lower temperatures have the opposite effect, such that a temperature of 0 results in greedy decoding, selecting the most probable token at each step.\n\nTemperature doesn't provide any guarantees of randomness, but it can be used to \"nudge\" the output somewhat.\n\n**Note that if you see a 429 Resource Exhausted error here, you may be able to edit the words in the prompt slightly to progress.**",
   "metadata": {
    "id": "alx-WaAvir_9"
   }
  },
  {
   "cell_type": "code",
   "source": "from google.api_core import retry\n\nhigh_temp_model = genai.GenerativeModel(\n    'gemini-1.5-flash',\n    generation_config=genai.GenerationConfig(temperature=2.0))\n\n\n# When running lots of queries, it's a good practice to use a retry policy so your code\n# automatically retries when hitting Resource Exhausted (quota limit) errors.\nretry_policy = {\n    \"retry\": retry.Retry(predicate=retry.if_transient_error, initial=10, multiplier=1.5, timeout=300)\n}\n\nfor _ in range(5):\n  response = high_temp_model.generate_content('Pick a random colour... (respond in a single word)',\n                                              request_options=retry_policy)\n  if response.parts:\n    print(response.text, '-' * 25)",
   "metadata": {
    "id": "SHraGMzqnZqt",
    "trusted": true,
    "execution": {
     "iopub.status.busy": "2024-11-13T10:05:32.952338Z",
     "iopub.execute_input": "2024-11-13T10:05:32.952788Z",
     "iopub.status.idle": "2024-11-13T10:05:35.768454Z",
     "shell.execute_reply.started": "2024-11-13T10:05:32.952736Z",
     "shell.execute_reply": "2024-11-13T10:05:35.767323Z"
    },
    "ExecuteTime": {
     "end_time": "2025-02-15T22:48:17.608338Z",
     "start_time": "2025-02-15T22:48:16.123026Z"
    }
   },
   "outputs": [
    {
     "name": "stdout",
     "output_type": "stream",
     "text": [
      "Purple\n",
      " -------------------------\n",
      "Marigold\n",
      " -------------------------\n",
      "Maroon\n",
      " -------------------------\n",
      "Maroon\n",
      " -------------------------\n",
      "Aquamarine\n",
      " -------------------------\n"
     ]
    }
   ],
   "execution_count": 18
  },
  {
   "cell_type": "markdown",
   "source": "Now try the same prompt with temperature set to zero. Note that the output is not completely deterministic, as other parameters affect token selection, but the results will tend to be more stable.",
   "metadata": {
    "id": "z3J4pCTuof7e"
   }
  },
  {
   "cell_type": "code",
   "source": "low_temp_model = genai.GenerativeModel(\n    'gemini-1.5-flash',\n    generation_config=genai.GenerationConfig(temperature=0.0))\n\nfor _ in range(5):\n  response = low_temp_model.generate_content('Pick a random colour... (respond in a single word)',\n                                             request_options=retry_policy)\n  if response.parts:\n    print(response.text, '-' * 25)",
   "metadata": {
    "id": "clymkWv-PfUZ",
    "trusted": true,
    "execution": {
     "iopub.status.busy": "2024-11-13T10:05:35.769722Z",
     "iopub.execute_input": "2024-11-13T10:05:35.770084Z",
     "iopub.status.idle": "2024-11-13T10:05:58.142978Z",
     "shell.execute_reply.started": "2024-11-13T10:05:35.770048Z",
     "shell.execute_reply": "2024-11-13T10:05:58.141844Z"
    },
    "ExecuteTime": {
     "end_time": "2025-02-15T22:48:20.910260Z",
     "start_time": "2025-02-15T22:48:19.580084Z"
    }
   },
   "outputs": [
    {
     "name": "stdout",
     "output_type": "stream",
     "text": [
      "Maroon\n",
      " -------------------------\n",
      "Maroon\n",
      " -------------------------\n",
      "Maroon\n",
      " -------------------------\n",
      "Maroon\n",
      " -------------------------\n",
      "Maroon\n",
      " -------------------------\n"
     ]
    }
   ],
   "execution_count": 19
  },
  {
   "cell_type": "markdown",
   "source": "### Top-K and top-P\n\nLike temperature, top-K and top-P parameters are also used to control the diversity of the model's output.\n\nTop-K is a positive integer that defines the number of most probable tokens from which to select the output token. A top-K of 1 selects a single token, performing greedy decoding.\n\nTop-P defines the probability threshold that, once cumulatively exceeded, tokens stop being selected as candidates. A top-P of 0 is typically equivalent to greedy decoding, and a top-P of 1 typically selects every token in the model's vocabulary.\n\nWhen both are supplied, the Gemini API will filter top-K tokens first, then top-P and then finally sample from the candidate tokens using the supplied temperature.\n\nRun this example a number of times, change the settings and observe the change in output.",
   "metadata": {
    "id": "St5nt3vzitsZ"
   }
  },
  {
   "cell_type": "code",
   "source": "model = genai.GenerativeModel(\n    'gemini-1.5-flash-001',\n    generation_config=genai.GenerationConfig(\n        # These are the default values for gemini-1.5-flash-001.\n        temperature=1.0,\n        top_k=64,\n        top_p=0.95,\n    ))\n\nstory_prompt = \"You are a creative writer. Write a short story about a cat who goes on an adventure.\"\nresponse = model.generate_content(story_prompt, request_options=retry_policy)\nprint(response.text)",
   "metadata": {
    "id": "lPlzpEavUV8F",
    "trusted": true,
    "execution": {
     "iopub.status.busy": "2024-11-13T10:05:58.14437Z",
     "iopub.execute_input": "2024-11-13T10:05:58.144702Z",
     "iopub.status.idle": "2024-11-13T10:06:13.016023Z",
     "shell.execute_reply.started": "2024-11-13T10:05:58.144669Z",
     "shell.execute_reply": "2024-11-13T10:06:13.014828Z"
    }
   },
   "outputs": [],
   "execution_count": null
  },
  {
   "cell_type": "markdown",
   "source": "## Prompting\n\nThis section contains some prompts from the chapter for you to try out directly in the API. Try changing the text here to see how each prompt performs with different instructions, more examples, or any other changes you can think of.",
   "metadata": {
    "id": "rMrYs1koY6DX"
   }
  },
  {
   "cell_type": "markdown",
   "source": "### Zero-shot\n\nZero-shot prompts are prompts that describe the request for the model directly.\n\n<table align=left>\n  <td>\n    <a target=\"_blank\" href=\"https://aistudio.google.com/prompts/1gzKKgDHwkAvexG5Up0LMtl1-6jKMKe4g\"><img src=\"https://ai.google.dev/site-assets/images/marketing/home/icon-ais.png\" style=\"height: 24px\" height=24/> Open in AI Studio</a>\n  </td>\n</table>",
   "metadata": {
    "id": "hhj_tQidZJP7"
   }
  },
  {
   "cell_type": "code",
   "source": "model = genai.GenerativeModel(\n    'gemini-1.5-flash-001',\n    generation_config=genai.GenerationConfig(\n        temperature=0.1,\n        top_p=1,\n        max_output_tokens=5,\n    ))\n\nzero_shot_prompt = \"\"\"Classify movie reviews as POSITIVE, NEUTRAL or NEGATIVE.\nReview: \"Her\" is a disturbing study revealing the direction\nhumanity is headed if AI is allowed to keep evolving,\nunchecked. I wish there were more movies like this masterpiece.\nSentiment: \"\"\"\n\nresponse = model.generate_content(zero_shot_prompt, request_options=retry_policy)\nprint(response.text)",
   "metadata": {
    "id": "1_t-cwnDZzbH",
    "trusted": true,
    "execution": {
     "iopub.status.busy": "2024-11-13T10:06:13.017134Z",
     "iopub.execute_input": "2024-11-13T10:06:13.017438Z",
     "iopub.status.idle": "2024-11-13T10:06:13.439879Z",
     "shell.execute_reply.started": "2024-11-13T10:06:13.017407Z",
     "shell.execute_reply": "2024-11-13T10:06:13.438828Z"
    }
   },
   "outputs": [],
   "execution_count": null
  },
  {
   "cell_type": "markdown",
   "source": "#### Enum mode\n\nThe models are trained to generate text, and can sometimes produce more text than you may wish for. In the preceding example, the model will output the label, sometimes it can include a preceding \"Sentiment\" label, and without an output token limit, it may also add explanatory text afterwards.\n\nThe Gemini API has an [Enum mode](https://github.com/google-gemini/cookbook/blob/main/quickstarts/Enum.ipynb) feature that allows you to constrain the output to a fixed set of values.",
   "metadata": {
    "id": "3b5568bdeb11"
   }
  },
  {
   "cell_type": "code",
   "source": "import enum\n\nclass Sentiment(enum.Enum):\n    POSITIVE = \"positive\"\n    NEUTRAL = \"neutral\"\n    NEGATIVE = \"negative\"\n\n\nmodel = genai.GenerativeModel(\n    'gemini-1.5-flash-001',\n    generation_config=genai.GenerationConfig(\n        response_mime_type=\"text/x.enum\",\n        response_schema=Sentiment\n    ))\n\nresponse = model.generate_content(zero_shot_prompt, request_options=retry_policy)\nprint(response.text)",
   "metadata": {
    "id": "ad118a56c598",
    "trusted": true,
    "execution": {
     "iopub.status.busy": "2024-11-13T10:06:13.441288Z",
     "iopub.execute_input": "2024-11-13T10:06:13.442218Z",
     "iopub.status.idle": "2024-11-13T10:06:39.436155Z",
     "shell.execute_reply.started": "2024-11-13T10:06:13.44217Z",
     "shell.execute_reply": "2024-11-13T10:06:39.435103Z"
    }
   },
   "outputs": [],
   "execution_count": null
  },
  {
   "cell_type": "markdown",
   "source": "### One-shot and few-shot\n\nProviding an example of the expected response is known as a \"one-shot\" prompt. When you provide multiple examples, it is a \"few-shot\" prompt.\n\n<table align=left>\n  <td>\n    <a target=\"_blank\" href=\"https://aistudio.google.com/prompts/1jjWkjUSoMXmLvMJ7IzADr_GxHPJVV2bg\"><img src=\"https://ai.google.dev/site-assets/images/marketing/home/icon-ais.png\" style=\"height: 24px\" height=24/> Open in AI Studio</a>\n  </td>\n</table>\n",
   "metadata": {
    "id": "0udiSwNbv45W"
   }
  },
  {
   "cell_type": "code",
   "source": "model = genai.GenerativeModel(\n    'gemini-1.5-flash-latest',\n    generation_config=genai.GenerationConfig(\n        temperature=0.1,\n        top_p=1,\n        max_output_tokens=250,\n    ))\n\nfew_shot_prompt = \"\"\"Parse a customer's pizza order into valid JSON:\n\nEXAMPLE:\nI want a small pizza with cheese, tomato sauce, and pepperoni.\nJSON Response:\n```\n{\n\"size\": \"small\",\n\"type\": \"normal\",\n\"ingredients\": [\"cheese\", \"tomato sauce\", \"peperoni\"]\n}\n```\n\nEXAMPLE:\nCan I get a large pizza with tomato sauce, basil and mozzarella\nJSON Response:\n```\n{\n\"size\": \"large\",\n\"type\": \"normal\",\n\"ingredients\": [\"tomato sauce\", \"basil\", \"mozzarella\"]\n}\n\nORDER:\n\"\"\"\n\ncustomer_order = \"Give me a large with cheese & pineapple\"\n\n\nresponse = model.generate_content([few_shot_prompt, customer_order], request_options=retry_policy)\nprint(response.text)",
   "metadata": {
    "id": "hd4mVUukwOKZ",
    "trusted": true,
    "execution": {
     "iopub.status.busy": "2024-11-13T10:06:39.437626Z",
     "iopub.execute_input": "2024-11-13T10:06:39.437995Z",
     "iopub.status.idle": "2024-11-13T10:06:40.047283Z",
     "shell.execute_reply.started": "2024-11-13T10:06:39.437959Z",
     "shell.execute_reply": "2024-11-13T10:06:40.046169Z"
    }
   },
   "outputs": [],
   "execution_count": null
  },
  {
   "cell_type": "markdown",
   "source": "#### JSON mode\n\nTo provide control over the schema, and to ensure that you only receive JSON (with no other text or markdown), you can use the Gemini API's [JSON mode](https://github.com/google-gemini/cookbook/blob/main/quickstarts/JSON_mode.ipynb). This forces the model to constrain decoding, such that token selection is guided by the supplied schema.",
   "metadata": {
    "id": "021293096f08"
   }
  },
  {
   "cell_type": "code",
   "source": "import typing_extensions as typing\n\nclass PizzaOrder(typing.TypedDict):\n    size: str\n    ingredients: list[str]\n    type: str\n\n\nmodel = genai.GenerativeModel(\n    'gemini-1.5-flash-latest',\n    generation_config=genai.GenerationConfig(\n        temperature=0.1,\n        response_mime_type=\"application/json\",\n        response_schema=PizzaOrder,\n    ))\n\nresponse = model.generate_content(\"Can I have a large dessert pizza with apple and chocolate\")\nprint(response.text)",
   "metadata": {
    "id": "50fbf0260912",
    "trusted": true,
    "execution": {
     "iopub.status.busy": "2024-11-13T10:06:40.048816Z",
     "iopub.execute_input": "2024-11-13T10:06:40.049724Z",
     "iopub.status.idle": "2024-11-13T10:06:40.620654Z",
     "shell.execute_reply.started": "2024-11-13T10:06:40.049676Z",
     "shell.execute_reply": "2024-11-13T10:06:40.619638Z"
    }
   },
   "outputs": [],
   "execution_count": null
  },
  {
   "cell_type": "markdown",
   "source": "### Chain of Thought (CoT)\n\nDirect prompting on LLMs can return answers quickly and (in terms of output token usage) efficiently, but they can be prone to hallucination. The answer may \"look\" correct (in terms of language and syntax) but is incorrect in terms of factuality and reasoning.\n\nChain-of-Thought prompting is a technique where you instruct the model to output intermediate reasoning steps, and it typically gets better results, especially when combined with few-shot examples. It is worth noting that this technique doesn't completely eliminate hallucinations, and that it tends to cost more to run, due to the increased token count.\n\nAs models like the Gemini family are trained to be \"chatty\" and provide reasoning steps, you can ask the model to be more direct in the prompt.",
   "metadata": {
    "id": "4a93e338e57c"
   }
  },
  {
   "cell_type": "code",
   "source": "prompt = \"\"\"When I was 4 years old, my partner was 3 times my age. Now, I\nam 20 years old. How old is my partner? Return the answer directly.\"\"\"\n\nmodel = genai.GenerativeModel('gemini-1.5-flash-latest')\nresponse = model.generate_content(prompt, request_options=retry_policy)\n\nprint(response.text)",
   "metadata": {
    "id": "5715555db1c1",
    "trusted": true,
    "execution": {
     "iopub.status.busy": "2024-11-13T10:08:50.900618Z",
     "iopub.execute_input": "2024-11-13T10:08:50.901671Z",
     "iopub.status.idle": "2024-11-13T10:08:51.369367Z",
     "shell.execute_reply.started": "2024-11-13T10:08:50.901614Z",
     "shell.execute_reply": "2024-11-13T10:08:51.368311Z"
    }
   },
   "outputs": [],
   "execution_count": null
  },
  {
   "cell_type": "markdown",
   "source": "Now try the same approach, but indicate to the model that it should \"think step by step\".",
   "metadata": {
    "id": "e12b19677bfd"
   }
  },
  {
   "cell_type": "code",
   "source": "prompt = \"\"\"When I was 4 years old, my partner was 3 times my age. Now,\nI am 20 years old. How old is my partner? Let's think step by step.\"\"\"\n\nresponse = model.generate_content(prompt, request_options=retry_policy)\nprint(response.text)",
   "metadata": {
    "id": "ffd7536a481f",
    "trusted": true,
    "execution": {
     "iopub.status.busy": "2024-11-13T10:06:41.382894Z",
     "iopub.execute_input": "2024-11-13T10:06:41.383203Z",
     "iopub.status.idle": "2024-11-13T10:06:42.119919Z",
     "shell.execute_reply.started": "2024-11-13T10:06:41.383171Z",
     "shell.execute_reply": "2024-11-13T10:06:42.117765Z"
    }
   },
   "outputs": [],
   "execution_count": null
  },
  {
   "cell_type": "markdown",
   "source": "### ReAct: Reason and act\n\nIn this example you will run a ReAct prompt directly in the Gemini API and perform the searching steps yourself. As this prompt follows a well-defined structure, there are frameworks available that wrap the prompt into easier-to-use APIs that make tool calls automatically, such as the LangChain example from the chapter.\n\nTo try this out with the Wikipedia search engine, check out the [Searching Wikipedia with ReAct](https://github.com/google-gemini/cookbook/blob/main/examples/Search_Wikipedia_using_ReAct.ipynb) cookbook example.\n\n\n> Note: The prompt and in-context examples used here are from [https://github.com/ysymyth/ReAct](https://github.com/ysymyth/ReAct) which is published under a [MIT license](https://opensource.org/licenses/MIT), Copyright (c) 2023 Shunyu Yao.\n\n<table align=left>\n  <td>\n    <a target=\"_blank\" href=\"https://aistudio.google.com/prompts/18oo63Lwosd-bQ6Ay51uGogB3Wk3H8XMO\"><img src=\"https://ai.google.dev/site-assets/images/marketing/home/icon-ais.png\" style=\"height: 24px\" height=24/> Open in AI Studio</a>\n  </td>\n</table>\n",
   "metadata": {
    "id": "oiLgBQJj0V53"
   }
  },
  {
   "cell_type": "code",
   "source": "model_instructions = \"\"\"\nSolve a question answering task with interleaving Thought, Action, Observation steps. Thought can reason about the current situation,\nObservation is understanding relevant information from an Action's output and Action can be one of three types:\n (1) <search>entity</search>, which searches the exact entity on Wikipedia and returns the first paragraph if it exists. If not, it\n     will return some similar entities to search and you can try to search the information from those topics.\n (2) <lookup>keyword</lookup>, which returns the next sentence containing keyword in the current context. This only does exact matches,\n     so keep your searches short.\n (3) <finish>answer</finish>, which returns the answer and finishes the task.\n\"\"\"\n\nexample1 = \"\"\"Question\nMusician and satirist Allie Goertz wrote a song about the \"The Simpsons\" character Milhouse, who Matt Groening named after who?\n\nThought 1\nThe question simplifies to \"The Simpsons\" character Milhouse is named after who. I only need to search Milhouse and find who it is named after.\n\nAction 1\n<search>Milhouse</search>\n\nObservation 1\nMilhouse Mussolini Van Houten is a recurring character in the Fox animated television series The Simpsons voiced by Pamela Hayden and created by Matt Groening.\n\nThought 2\nThe paragraph does not tell who Milhouse is named after, maybe I can look up \"named after\".\n\nAction 2\n<lookup>named after</lookup>\n\nObservation 2\nMilhouse was named after U.S. president Richard Nixon, whose middle name was Milhous.\n\nThought 3\nMilhouse was named after U.S. president Richard Nixon, so the answer is Richard Nixon.\n\nAction 3\n<finish>Richard Nixon</finish>\n\"\"\"\n\nexample2 = \"\"\"Question\nWhat is the elevation range for the area that the eastern sector of the Colorado orogeny extends into?\n\nThought 1\nI need to search Colorado orogeny, find the area that the eastern sector of the Colorado orogeny extends into, then find the elevation range of the area.\n\nAction 1\n<search>Colorado orogeny</search>\n\nObservation 1\nThe Colorado orogeny was an episode of mountain building (an orogeny) in Colorado and surrounding areas.\n\nThought 2\nIt does not mention the eastern sector. So I need to look up eastern sector.\n\nAction 2\n<lookup>eastern sector</lookup>\n\nObservation 2\nThe eastern sector extends into the High Plains and is called the Central Plains orogeny.\n\nThought 3\nThe eastern sector of Colorado orogeny extends into the High Plains. So I need to search High Plains and find its elevation range.\n\nAction 3\n<search>High Plains</search>\n\nObservation 3\nHigh Plains refers to one of two distinct land regions\n\nThought 4\nI need to instead search High Plains (United States).\n\nAction 4\n<search>High Plains (United States)</search>\n\nObservation 4\nThe High Plains are a subregion of the Great Plains. From east to west, the High Plains rise in elevation from around 1,800 to 7,000 ft (550 to 2,130m).\n\nThought 5\nHigh Plains rise in elevation from around 1,800 to 7,000 ft, so the answer is 1,800 to 7,000 ft.\n\nAction 5\n<finish>1,800 to 7,000 ft</finish>\n\"\"\"\n\n# Come up with more examples yourself, or take a look through https://github.com/ysymyth/ReAct/",
   "metadata": {
    "id": "cBgyNJ5z0VSs",
    "trusted": true,
    "execution": {
     "iopub.status.busy": "2024-11-13T10:06:42.121364Z",
     "iopub.execute_input": "2024-11-13T10:06:42.121712Z",
     "iopub.status.idle": "2024-11-13T10:06:42.128806Z",
     "shell.execute_reply.started": "2024-11-13T10:06:42.121677Z",
     "shell.execute_reply": "2024-11-13T10:06:42.127748Z"
    }
   },
   "outputs": [],
   "execution_count": null
  },
  {
   "cell_type": "markdown",
   "source": "To capture a single step at a time, while ignoring any hallucinated Observation steps, you will use `stop_sequences` to end the generation process. The steps are `Thought`, `Action`, `Observation`, in that order.",
   "metadata": {
    "id": "C3wbfstjTgey"
   }
  },
  {
   "cell_type": "code",
   "source": "question = \"\"\"Question\nWho was the youngest author listed on the transformers NLP paper?\n\"\"\"\n\nmodel = genai.GenerativeModel('gemini-1.5-flash-latest')\nreact_chat = model.start_chat()\n\n# You will perform the Action, so generate up to, but not including, the Observation.\nconfig = genai.GenerationConfig(stop_sequences=[\"\\nObservation\"])\n\nresp = react_chat.send_message(\n    [model_instructions, example1, example2, question],\n    generation_config=config,\n    request_options=retry_policy)\nprint(resp.text)",
   "metadata": {
    "id": "8mxrXRkRTdXm",
    "trusted": true,
    "execution": {
     "iopub.status.busy": "2024-11-13T10:06:42.130137Z",
     "iopub.execute_input": "2024-11-13T10:06:42.130517Z",
     "iopub.status.idle": "2024-11-13T10:06:43.924798Z",
     "shell.execute_reply.started": "2024-11-13T10:06:42.130483Z",
     "shell.execute_reply": "2024-11-13T10:06:43.92352Z"
    }
   },
   "outputs": [],
   "execution_count": null
  },
  {
   "cell_type": "markdown",
   "source": "Now you can perform this research yourself and supply it back to the model.",
   "metadata": {
    "id": "aW2PIdLbVv3l"
   }
  },
  {
   "cell_type": "code",
   "source": "observation = \"\"\"Observation 1\n[1706.03762] Attention Is All You Need\nAshish Vaswani, Noam Shazeer, Niki Parmar, Jakob Uszkoreit, Llion Jones, Aidan N. Gomez, Lukasz Kaiser, Illia Polosukhin\nWe propose a new simple network architecture, the Transformer, based solely on attention mechanisms, dispensing with recurrence and convolutions entirely.\n\"\"\"\nresp = react_chat.send_message(observation, generation_config=config, request_options=retry_policy)\nprint(resp.text)",
   "metadata": {
    "id": "mLMc0DZaV9g2",
    "trusted": true,
    "execution": {
     "iopub.status.busy": "2024-11-13T10:06:43.926029Z",
     "iopub.execute_input": "2024-11-13T10:06:43.926446Z",
     "iopub.status.idle": "2024-11-13T10:06:44.600318Z",
     "shell.execute_reply.started": "2024-11-13T10:06:43.926397Z",
     "shell.execute_reply": "2024-11-13T10:06:44.599102Z"
    }
   },
   "outputs": [],
   "execution_count": null
  },
  {
   "cell_type": "markdown",
   "source": "This process repeats until the `<finish>` action is reached. You can continue running this yourself if you like, or try the [Wikipedia example](https://github.com/google-gemini/cookbook/blob/main/examples/Search_Wikipedia_using_ReAct.ipynb) to see a fully automated ReAct system at work.",
   "metadata": {
    "id": "bo0tzf4nX6dA"
   }
  },
  {
   "cell_type": "markdown",
   "source": "## Code prompting",
   "metadata": {
    "id": "jPiZ_eIIaVPt"
   }
  },
  {
   "cell_type": "markdown",
   "source": "### Generating code\n\nThe Gemini family of models can be used to generate code, configuration and scripts. Generating code can be helpful when learning to code, learning a new language or for rapidly generating a first draft.\n\nIt's important to be aware that since LLMs can't reason, and can repeat training data, it's essential to read and test your code first, and comply with any relevant licenses.\n\n<table align=left>\n  <td>\n    <a target=\"_blank\" href=\"https://aistudio.google.com/prompts/1YX71JGtzDjXQkgdes8bP6i3oH5lCRKxv\"><img src=\"https://ai.google.dev/site-assets/images/marketing/home/icon-ais.png\" style=\"height: 24px\" height=24/> Open in AI Studio</a>\n  </td>\n</table>",
   "metadata": {
    "id": "ZinKamwXeR6C"
   }
  },
  {
   "cell_type": "code",
   "source": "model = genai.GenerativeModel(\n    'gemini-1.5-flash-latest',\n    generation_config=genai.GenerationConfig(\n        temperature=1,\n        top_p=1,\n        max_output_tokens=1024,\n    ))\n\n# Gemini 1.5 models are very chatty, so it helps to specify they stick to the code.\ncode_prompt = \"\"\"\nWrite a Python function to calculate the factorial of a number. No explanation, provide only the code.\n\"\"\"\n\nresponse = model.generate_content(code_prompt, request_options=retry_policy)\nMarkdown(response.text)",
   "metadata": {
    "id": "fOQP9pqmeUO1",
    "trusted": true,
    "execution": {
     "iopub.status.busy": "2024-11-13T10:06:44.60167Z",
     "iopub.execute_input": "2024-11-13T10:06:44.602109Z",
     "iopub.status.idle": "2024-11-13T10:06:45.148912Z",
     "shell.execute_reply.started": "2024-11-13T10:06:44.602073Z",
     "shell.execute_reply": "2024-11-13T10:06:45.147899Z"
    }
   },
   "outputs": [],
   "execution_count": null
  },
  {
   "cell_type": "markdown",
   "source": "### Code execution\n\nThe Gemini API can automatically run generated code too, and will return the output.\n\n<table align=left>\n  <td>\n    <a target=\"_blank\" href=\"https://aistudio.google.com/prompts/11veFr_VYEwBWcLkhNLr-maCG0G8sS_7Z\"><img src=\"https://ai.google.dev/site-assets/images/marketing/home/icon-ais.png\" style=\"height: 24px\" height=24/> Open in AI Studio</a>\n  </td>\n</table>",
   "metadata": {
    "id": "wlBMWSFhgVRQ"
   }
  },
  {
   "cell_type": "code",
   "source": "model = genai.GenerativeModel(\n    'gemini-1.5-flash-latest',\n    tools='code_execution',)\n\ncode_exec_prompt = \"\"\"\nCalculate the sum of the first 14 prime numbers. Only consider the odd primes, and make sure you count them all.\n\"\"\"\n\nresponse = model.generate_content(code_exec_prompt, request_options=retry_policy)\nMarkdown(response.text)",
   "metadata": {
    "id": "jT3OfWYfhjRL",
    "trusted": true,
    "execution": {
     "iopub.status.busy": "2024-11-13T10:06:45.150314Z",
     "iopub.execute_input": "2024-11-13T10:06:45.151162Z",
     "iopub.status.idle": "2024-11-13T10:06:47.30487Z",
     "shell.execute_reply.started": "2024-11-13T10:06:45.151114Z",
     "shell.execute_reply": "2024-11-13T10:06:47.303541Z"
    }
   },
   "outputs": [],
   "execution_count": null
  },
  {
   "cell_type": "markdown",
   "source": "While this looks like a single-part response, you can inspect the response to see the each of the steps: initial text, code generation, execution results, and final text summary.",
   "metadata": {
    "id": "ZspT1GSkjG6d"
   }
  },
  {
   "cell_type": "code",
   "source": "for part in response.candidates[0].content.parts:\n  print(part)\n  print(\"-----\")",
   "metadata": {
    "id": "j4gQVzcRjRX-",
    "trusted": true,
    "execution": {
     "iopub.status.busy": "2024-11-13T10:06:47.306141Z",
     "iopub.execute_input": "2024-11-13T10:06:47.306489Z",
     "iopub.status.idle": "2024-11-13T10:06:47.311943Z",
     "shell.execute_reply.started": "2024-11-13T10:06:47.306447Z",
     "shell.execute_reply": "2024-11-13T10:06:47.310828Z"
    }
   },
   "outputs": [],
   "execution_count": null
  },
  {
   "cell_type": "markdown",
   "source": "### Explaining code\n\nThe Gemini family of models can explain code to you too.\n\n<table align=left>\n  <td>\n    <a target=\"_blank\" href=\"https://aistudio.google.com/prompts/1N7LGzWzCYieyOf_7bAG4plrmkpDNmUyb\"><img src=\"https://ai.google.dev/site-assets/images/marketing/home/icon-ais.png\" style=\"height: 24px\" height=24/> Open in AI Studio</a>\n  </td>\n</table>",
   "metadata": {
    "id": "1gUX8QzCj4d5"
   }
  },
  {
   "cell_type": "code",
   "source": "file_contents = !curl https://raw.githubusercontent.com/magicmonty/bash-git-prompt/refs/heads/master/gitprompt.sh\n\nexplain_prompt = f\"\"\"\nPlease explain what this file does at a very high level. What is it, and why would I use it?\n\n```\n{file_contents}\n```\n\"\"\"\n\nmodel = genai.GenerativeModel('gemini-1.5-flash-latest')\n\nresponse = model.generate_content(explain_prompt, request_options=retry_policy)\nMarkdown(response.text)",
   "metadata": {
    "id": "7_jPMMoxkIEb",
    "trusted": true,
    "execution": {
     "iopub.status.busy": "2024-11-13T10:06:47.313178Z",
     "iopub.execute_input": "2024-11-13T10:06:47.313493Z",
     "iopub.status.idle": "2024-11-13T10:06:50.71311Z",
     "shell.execute_reply.started": "2024-11-13T10:06:47.31346Z",
     "shell.execute_reply": "2024-11-13T10:06:50.712084Z"
    }
   },
   "outputs": [],
   "execution_count": null
  },
  {
   "cell_type": "markdown",
   "source": "## Learn more\n\nTo learn more about prompting in depth:\n\n* Check out the whitepaper issued with today's content,\n* Try out the apps listed at the top of this notebook ([TextFX](https://textfx.withgoogle.com/), [SQL Talk](https://sql-talk-r5gdynozbq-uc.a.run.app/) and [NotebookLM](https://notebooklm.google/)),\n* Read the [Introduction to Prompting](https://ai.google.dev/gemini-api/docs/prompting-intro) from the Gemini API docs,\n* Explore the Gemini API's [prompt gallery](https://ai.google.dev/gemini-api/prompts) and try them out in AI Studio,\n* Check out the Gemini API cookbook for [inspirational examples](https://github.com/google-gemini/cookbook/blob/main/examples/) and [educational quickstarts](https://github.com/google-gemini/cookbook/blob/main/quickstarts/).\n\nAnd please share anything exciting you have tried in the Discord!",
   "metadata": {
    "id": "2a8266d97ce5"
   }
  }
 ]
}
